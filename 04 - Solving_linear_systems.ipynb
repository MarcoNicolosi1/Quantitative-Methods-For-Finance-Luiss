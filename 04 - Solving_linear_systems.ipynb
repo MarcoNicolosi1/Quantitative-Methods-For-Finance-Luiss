{
 "cells": [
  {
   "cell_type": "markdown",
   "metadata": {},
   "source": [
    "### Class 4\n",
    "\n",
    "##### 1. Refresh on the determinant, the rank and the inverse of a matrix\n",
    "##### 2. Solving a linear systems: solving it by using the inverse matrix, and solving it by using the `solve` method from SciPy\n",
    "##### 3. Geometric interpretation of the equations through graphs\n",
    "##### 4. Examples of linear systems with a unique solutions, linear systems with an infinite number of solutions, and inconsistent linear systems\n",
    "##### 5. The matrix rank and its relationship with the consistency of the linear system"
   ]
  },
  {
   "cell_type": "code",
   "execution_count": 2,
   "metadata": {},
   "outputs": [],
   "source": [
    "import numpy as np\n",
    "import scipy.linalg as sp #library to solve linear systems\n",
    "import matplotlib.pyplot as plt #library for plot"
   ]
  },
  {
   "cell_type": "markdown",
   "metadata": {},
   "source": [
    "###### 1. Refresh on the determinant, the rank and the inverse of a matrix"
   ]
  },
  {
   "cell_type": "code",
   "execution_count": 4,
   "metadata": {},
   "outputs": [
    {
     "name": "stdout",
     "output_type": "stream",
     "text": [
      "[[2 4 6]\n",
      " [1 0 3]\n",
      " [0 1 1]]\n",
      "-4.0\n",
      "3\n",
      "The inverse is\n",
      "[[ 0.75 -0.5  -3.  ]\n",
      " [ 0.25 -0.5  -0.  ]\n",
      " [-0.25  0.5   1.  ]]\n"
     ]
    }
   ],
   "source": [
    "A = np.array([[2,4,6],[1,0,3],[0,1,1]]) \n",
    "print(A)                         \n",
    "\n",
    "print(np.linalg.det(A))          # Determinant\n",
    "print(np.linalg.matrix_rank(A))  # Rank\n",
    "print(\"The inverse is\")\n",
    "print(np.linalg.inv(A))          # Inverse of A. Recall that the determinant has to be different from zero in order for the inverse to exist  "
   ]
  },
  {
   "cell_type": "code",
   "execution_count": 5,
   "metadata": {},
   "outputs": [
    {
     "name": "stdout",
     "output_type": "stream",
     "text": [
      "[2 4 6 1]\n",
      "[1 0 3 2]\n",
      "[[2 4 6 1]\n",
      " [1 0 3 2]]\n",
      "2\n",
      "[3.  2.  9.  4.5]\n",
      "[[2.  4.  6.  1. ]\n",
      " [1.  0.  3.  2. ]\n",
      " [3.  2.  9.  4.5]]\n",
      "2\n"
     ]
    }
   ],
   "source": [
    "# Let us construct a matrix that is not full rank\n",
    "\n",
    "x = np.array([2,4,6,1])\n",
    "print(x)\n",
    "y = np.array([1,0,3,2])\n",
    "print(y)\n",
    "\n",
    "D = np.array([x,y])   \n",
    "#D = np.array([[2,4,6,1],[1,0,3,2]])  \n",
    "print(D)  \n",
    "# D is made by the two vectors x,y\n",
    "print(np.linalg.matrix_rank(D))    \n",
    "\n",
    "z = 0.5*x + 2*y                             # z is a linear combination of x,y\n",
    "print(z)\n",
    "\n",
    "D = np.array([x,y,z]) \n",
    "print(D)                             # Re-define D by including also the vector z\n",
    "print(np.linalg.matrix_rank(D))      # D is 3x4, however it has rank equal to 2 since z is a linear combination of x and y"
   ]
  },
  {
   "cell_type": "code",
   "execution_count": 6,
   "metadata": {},
   "outputs": [
    {
     "name": "stdout",
     "output_type": "stream",
     "text": [
      "[[2 4 6]\n",
      " [1 0 3]\n",
      " [0 1 1]]\n",
      "[[ 0.75 -0.5  -3.  ]\n",
      " [ 0.25 -0.5  -0.  ]\n",
      " [-0.25  0.5   1.  ]]\n"
     ]
    }
   ],
   "source": [
    "# Let's verify that A@A^(-1)  =  A^(-1)@A   =I\n",
    "print(A)\n",
    "Ainv = np.linalg.inv(A);\n",
    "print(Ainv)\n",
    "left_side = A@Ainv\n",
    "right_side = Ainv@A"
   ]
  },
  {
   "cell_type": "code",
   "execution_count": 7,
   "metadata": {},
   "outputs": [
    {
     "name": "stdout",
     "output_type": "stream",
     "text": [
      "[[1. 0. 0.]\n",
      " [0. 1. 0.]\n",
      " [0. 0. 1.]]\n",
      "[[1. 0. 0.]\n",
      " [0. 1. 0.]\n",
      " [0. 0. 1.]]\n"
     ]
    }
   ],
   "source": [
    "print(left_side)\n",
    "print(right_side)"
   ]
  },
  {
   "cell_type": "code",
   "execution_count": 8,
   "metadata": {},
   "outputs": [
    {
     "name": "stdout",
     "output_type": "stream",
     "text": [
      "[[ True  True  True]\n",
      " [ True  True  True]\n",
      " [ True  True  True]]\n",
      "[[ True  True  True]\n",
      " [ True  True  True]\n",
      " [ True  True  True]]\n"
     ]
    }
   ],
   "source": [
    "print(left_side == right_side)\n",
    "print(A@Ainv == Ainv@A)"
   ]
  },
  {
   "cell_type": "markdown",
   "metadata": {},
   "source": [
    "###### 2. Solving a linear systems: solving it by using the inverse matrix, and solving it by using the `solve` method from SciPy"
   ]
  },
  {
   "cell_type": "code",
   "execution_count": 11,
   "metadata": {},
   "outputs": [
    {
     "name": "stdout",
     "output_type": "stream",
     "text": [
      "[[1 2]\n",
      " [3 4]]\n",
      "[[1]\n",
      " [1]]\n"
     ]
    }
   ],
   "source": [
    "# Linear Systems: the case where the matrix A is nxn (# of unknowns equal to # of equations)\n",
    "\n",
    "# The system is made up of two equations:\n",
    "# 1.   x+2y=1\n",
    "# 2.  3x+4y=1\n",
    "\n",
    "A = np.array([[1,2],[3,4]])\n",
    "print(A)\n",
    "b = np.array([[1],[1]])                      # We want to find the 2x1 vector x such that Ax=b\n",
    "print(b)"
   ]
  },
  {
   "cell_type": "code",
   "execution_count": 15,
   "metadata": {},
   "outputs": [
    {
     "name": "stdout",
     "output_type": "stream",
     "text": [
      "-2.0000000000000004\n",
      "[[-2.   1. ]\n",
      " [ 1.5 -0.5]]\n",
      "[[-1.]\n",
      " [ 1.]]\n",
      "[[1.]\n",
      " [1.]]\n"
     ]
    }
   ],
   "source": [
    "# 1°method: solving it by using the invrse matrix (x=A^{-1}b)\n",
    "\n",
    "print(np.linalg.det(A))          # Det(A) is different from zero, thus we can compute the inverse\n",
    "A_inv = np.linalg.inv(A)\n",
    "print(A_inv)\n",
    "x1 = A_inv@b\n",
    "print(x1)\n",
    "\n",
    "# Let's verify that x1 is a solution\n",
    "print(A@x1)                      # Should be equal to b"
   ]
  },
  {
   "cell_type": "markdown",
   "metadata": {},
   "source": [
    "###### 2° method: solving it by using the `solve` method from SciPy"
   ]
  },
  {
   "cell_type": "code",
   "execution_count": 16,
   "metadata": {},
   "outputs": [
    {
     "name": "stdout",
     "output_type": "stream",
     "text": [
      "[[-1.]\n",
      " [ 1.]]\n"
     ]
    }
   ],
   "source": [
    "# 2° method: solving it using the `solve` method from SciPy\n",
    "\n",
    "sol2 = sp.solve(A,b)\n",
    "print(sol2)                       # It is equal to x1"
   ]
  },
  {
   "cell_type": "markdown",
   "metadata": {},
   "source": [
    "### 3. Geometric interpretation of the equations through graphs"
   ]
  },
  {
   "cell_type": "code",
   "execution_count": 22,
   "metadata": {},
   "outputs": [],
   "source": [
    "# The previous system consists of two equations:\n",
    "# 1.   x+2y=1 --> y = (1 -x)\\2\n",
    "# 2.  3x+4y=1 --> y = (1-3x)\\4\n",
    "\n",
    "# First we are going to define x and the two equations\n",
    "xPlt = np.linspace(-5,5,100)\n",
    "yPlt1 = (1-xPlt)/2\n",
    "yPlt2 = (1-3*xPlt)/4"
   ]
  },
  {
   "cell_type": "code",
   "execution_count": 23,
   "metadata": {},
   "outputs": [
    {
     "data": {
      "text/plain": [
       "[<matplotlib.lines.Line2D at 0x26364972a10>]"
      ]
     },
     "execution_count": 23,
     "metadata": {},
     "output_type": "execute_result"
    },
    {
     "data": {
      "image/png": "[encoded data removed]",
      "text/plain": [
       "<Figure size 640x480 with 1 Axes>"
      ]
     },
     "metadata": {},
     "output_type": "display_data"
    }
   ],
   "source": [
    "# Let's draw their graphs \n",
    "\n",
    "plt.plot(xPlt,yPlt1)\n",
    "plt.plot(xPlt,yPlt2)"
   ]
  },
  {
   "cell_type": "markdown",
   "metadata": {},
   "source": [
    "### 4. Examples of linear systems with a unique solutions, linear systems with an infinite number of solutions, and inconsistent linear systems"
   ]
  },
  {
   "cell_type": "code",
   "execution_count": 28,
   "metadata": {},
   "outputs": [
    {
     "name": "stdout",
     "output_type": "stream",
     "text": [
      "[[ 1  1]\n",
      " [ 1 -1]]\n",
      "[[0.]\n",
      " [0.]]\n",
      "-2.0\n"
     ]
    }
   ],
   "source": [
    "# 1°example: linear systems with a unique solutions\n",
    "# Example 20 in the slides\n",
    "# The system is\n",
    "# 1.   x+y=0\n",
    "# 2.   x-y=0\n",
    "\n",
    "A = np.array([[1,1],[1,-1]])\n",
    "print(A)\n",
    "b = np.zeros((2,1))\n",
    "print(b)\n",
    "print(np.linalg.det(A))          \n",
    "\n",
    "# The matrix A has determinant equal to 2, hence it is full rank. \n",
    "# Since the system is homogeneous, it has a unique solution given by [0,0] (trivial solution)"
   ]
  },
  {
   "cell_type": "code",
   "execution_count": 29,
   "metadata": {},
   "outputs": [],
   "source": [
    "# Let's draw their graphs \n",
    "\n",
    "yPlt1  = -xPlt\n",
    "yPlt2 = xPlt"
   ]
  },
  {
   "cell_type": "code",
   "execution_count": 30,
   "metadata": {},
   "outputs": [
    {
     "data": {
      "text/plain": [
       "[<matplotlib.lines.Line2D at 0x26364a0b350>]"
      ]
     },
     "execution_count": 30,
     "metadata": {},
     "output_type": "execute_result"
    },
    {
     "data": {
      "image/png": "[encoded data removed]",
      "text/plain": [
       "<Figure size 640x480 with 1 Axes>"
      ]
     },
     "metadata": {},
     "output_type": "display_data"
    }
   ],
   "source": [
    "# Let's draw their graphs \n",
    "plt.plot(xPlt,yPlt1)\n",
    "plt.plot(xPlt,yPlt2)"
   ]
  },
  {
   "cell_type": "code",
   "execution_count": 31,
   "metadata": {},
   "outputs": [
    {
     "name": "stdout",
     "output_type": "stream",
     "text": [
      "[[ 0.]\n",
      " [-0.]]\n"
     ]
    }
   ],
   "source": [
    "# Example 20: using the linalg.solve method of SciPy\n",
    "\n",
    "xy = sp.solve(A,b)\n",
    "print(xy)                    "
   ]
  },
  {
   "cell_type": "code",
   "execution_count": 33,
   "metadata": {},
   "outputs": [
    {
     "name": "stdout",
     "output_type": "stream",
     "text": [
      "0.0\n"
     ]
    }
   ],
   "source": [
    "# 2°example: linear systems with an infinite number of solutions\n",
    "# Example 21 in the slides\n",
    "# The system is\n",
    "# 1.   x-y=0\n",
    "# 2.  2x-2y=0\n",
    "\n",
    "A = np.array([[1,-1],[2,-2]])\n",
    "b = np.zeros((2,1)) \n",
    "\n",
    "print(np.linalg.det(A))          \n",
    "\n",
    "# The matrix A has determinant equal to zero, hence its rank is 1. \n",
    "# Since the system is homogeneous it is consistent, and it has ∞^1 solutions by virtue of the Rouche-Capelli theorem\n",
    "# We cannot use linalg.solve method of SciPy because Python gives an error"
   ]
  },
  {
   "cell_type": "code",
   "execution_count": 34,
   "metadata": {},
   "outputs": [],
   "source": [
    "# Let's draw their graphs\n",
    "\n",
    "yPlt1  = xPlt\n",
    "yPlt2 = (2/2)*xPlt"
   ]
  },
  {
   "cell_type": "code",
   "execution_count": 35,
   "metadata": {},
   "outputs": [
    {
     "data": {
      "text/plain": [
       "[<matplotlib.lines.Line2D at 0x26364a89d50>]"
      ]
     },
     "execution_count": 35,
     "metadata": {},
     "output_type": "execute_result"
    },
    {
     "data": {
      "image/png": "[encoded data removed]",
      "text/plain": [
       "<Figure size 640x480 with 1 Axes>"
      ]
     },
     "metadata": {},
     "output_type": "display_data"
    }
   ],
   "source": [
    "plt.plot(xPlt,yPlt1)\n",
    "plt.plot(xPlt,yPlt2,'--')"
   ]
  },
  {
   "cell_type": "markdown",
   "metadata": {},
   "source": [
    "###### 3°example: inconsistent linear systems"
   ]
  },
  {
   "cell_type": "code",
   "execution_count": 37,
   "metadata": {},
   "outputs": [
    {
     "name": "stdout",
     "output_type": "stream",
     "text": [
      "0.0\n",
      "2\n"
     ]
    }
   ],
   "source": [
    "# 3°example: inconsistent linear systems\n",
    "# Example 22 in the slides\n",
    "# The system is:\n",
    "# 1.   x-y=0\n",
    "# 2.   x-y=1\n",
    "\n",
    "A = np.array([[1,-1],[1,-1]])\n",
    "b = np.array([0,1])\n",
    "b.shape = (2,1)\n",
    "\n",
    "print(np.linalg.det(A))        \n",
    "\n",
    "# A has determinant equal to zero, hence its rank is 1.\n",
    "# Let's compute the rank of the augmented matrix A|b\n",
    "\n",
    "Ab = np.concatenate((A,b),axis=1)      # Augmented matrix A|b\n",
    "print(np.linalg.matrix_rank(Ab))       # Rank of the augmented matrix\n",
    "\n",
    "# The rank of A|b is equal to 2, therefore by the Rouche-Capelli theorem the system is inconsistent (it has no solutions)"
   ]
  },
  {
   "cell_type": "code",
   "execution_count": 38,
   "metadata": {},
   "outputs": [],
   "source": [
    "# Let's draw their graphs \n",
    "\n",
    "yPlt1  = xPlt\n",
    "yPlt2 = xPlt-1"
   ]
  },
  {
   "cell_type": "code",
   "execution_count": 39,
   "metadata": {},
   "outputs": [
    {
     "data": {
      "text/plain": [
       "[<matplotlib.lines.Line2D at 0x26364adbe90>]"
      ]
     },
     "execution_count": 39,
     "metadata": {},
     "output_type": "execute_result"
    },
    {
     "data": {
      "image/png": "[encoded data removed]",
      "text/plain": [
       "<Figure size 640x480 with 1 Axes>"
      ]
     },
     "metadata": {},
     "output_type": "display_data"
    }
   ],
   "source": [
    "plt.plot(xPlt,yPlt1)\n",
    "plt.plot(xPlt,yPlt2)"
   ]
  },
  {
   "cell_type": "markdown",
   "metadata": {},
   "source": [
    "### 5. The Rouche-Capelli Theorem"
   ]
  },
  {
   "cell_type": "code",
   "execution_count": 40,
   "metadata": {},
   "outputs": [
    {
     "name": "stdout",
     "output_type": "stream",
     "text": [
      "0.0\n",
      "2\n",
      "3\n"
     ]
    }
   ],
   "source": [
    "# An exercise with higher dimensions\n",
    "\n",
    "A = np.array([[1,2,0],[3,4,9],[4,6,9]])\n",
    "b = np.ones((3,1))\n",
    "\n",
    "print(np.linalg.det(A))        \n",
    "\n",
    "# The determinant is zero, meaning that A is not invertible. \n",
    "# Let's check whether the system is consistent or not using the Rouche-Capelli theorem\n",
    "\n",
    "print(np.linalg.matrix_rank(A))        # Rank of A\n",
    "Ab = np.concatenate((A,b),axis=1)      # Augmented matrix A|b\n",
    "print(np.linalg.matrix_rank(Ab))       # Rank of augmented matrix\n",
    "\n",
    "# The two ranks are different, hence the system is inconsistent (there are no solutions)"
   ]
  },
  {
   "cell_type": "code",
   "execution_count": 41,
   "metadata": {},
   "outputs": [
    {
     "name": "stdout",
     "output_type": "stream",
     "text": [
      "2\n"
     ]
    }
   ],
   "source": [
    "# Let's now consider the same matrix A, but a different vector of coefficients \n",
    "\n",
    "z = np.array([1,1,2])                    # So, we want to find the vector x such that Ax=z\n",
    "z.shape = (3,1) \n",
    "\n",
    "Az = np.concatenate((A,z),axis=1)       # Augmented matrix A|z\n",
    "print(np.linalg.matrix_rank(Az)) \n",
    "\n",
    "# This time A and A|z have the same rank, equal to 2. The system is consistent with ∞^1 solutions\n",
    "# To find the solutions, we have to use a resolution method, like the Gauss elimination algorithm"
   ]
  },
  {
   "cell_type": "code",
   "execution_count": 42,
   "metadata": {},
   "outputs": [
    {
     "name": "stdout",
     "output_type": "stream",
     "text": [
      "[[1 2]\n",
      " [3 4]\n",
      " [4 6]]\n",
      "2\n",
      "3\n"
     ]
    }
   ],
   "source": [
    "# The case where the matrix A is mxn, with m different from n\n",
    "\n",
    "A = np.array([[1,2],[3,4],[4,6]])\n",
    "print(A)\n",
    "b = np.ones((3,1))\n",
    "\n",
    "# We apply the Rouche-Capelli theorem to verify whether the system is consistent or not\n",
    "\n",
    "print(np.linalg.matrix_rank(A))        # Rank of A\n",
    "Ab = np.concatenate((A,b),axis=1)      # Augmented matrix A|b\n",
    "print(np.linalg.matrix_rank(Ab))       # Rank of augmented matrix\n",
    "\n",
    "# The two ranks are different, therefore the system is inconsistent (there are no solutions)"
   ]
  },
  {
   "cell_type": "code",
   "execution_count": 43,
   "metadata": {},
   "outputs": [],
   "source": [
    "# To see why, let's plot the three equations:\n",
    "# 1.   x+2y=1\n",
    "# 2.  3x+4y=1\n",
    "# 3.  4x+6y=1\n",
    "\n",
    "xPlt = np.linspace(-5,5,100) \n",
    "yPlt1  = (1-xPlt)/2\n",
    "yPlt2 = (1-3*xPlt)/4\n",
    "yPlt3 = (1-4*xPlt)/6"
   ]
  },
  {
   "cell_type": "code",
   "execution_count": 44,
   "metadata": {},
   "outputs": [
    {
     "data": {
      "text/plain": [
       "<matplotlib.legend.Legend at 0x26364b28890>"
      ]
     },
     "execution_count": 44,
     "metadata": {},
     "output_type": "execute_result"
    },
    {
     "data": {
      "image/png": "[encoded data removed]",
      "text/plain": [
       "<Figure size 640x480 with 1 Axes>"
      ]
     },
     "metadata": {},
     "output_type": "display_data"
    }
   ],
   "source": [
    "plt.plot(xPlt,yPlt1,label='x+2y=1')\n",
    "plt.plot(xPlt,yPlt2,label='3x+4y=1')\n",
    "plt.plot(xPlt,yPlt3,label='4x+6y=1')\n",
    "plt.legend(loc='lower left')"
   ]
  },
  {
   "cell_type": "code",
   "execution_count": 45,
   "metadata": {},
   "outputs": [
    {
     "name": "stdout",
     "output_type": "stream",
     "text": [
      "2\n"
     ]
    }
   ],
   "source": [
    "# Another example with a rectangular matrix\n",
    "\n",
    "A = A.transpose()\n",
    "z = np.array([1,1])                    # So, we want to find the vector x such that Ax=z\n",
    "z.shape = (2,1) \n",
    "\n",
    "# We already know the rank of A, why?\n",
    "Az = np.concatenate((A,z),axis=1)       # Augmented matrix A|z\n",
    "print(np.linalg.matrix_rank(Az))       # Rank of augmented matrix\n",
    "\n",
    "# A and Az have the same rank, therefore the system is consistent with ∞^1 solutions"
   ]
  },
  {
   "cell_type": "code",
   "execution_count": null,
   "metadata": {},
   "outputs": [],
   "source": []
  }
 ],
 "metadata": {
  "kernelspec": {
   "display_name": "Python 3 (ipykernel)",
   "language": "python",
   "name": "python3"
  },
  "language_info": {
   "codemirror_mode": {
    "name": "ipython",
    "version": 3
   },
   "file_extension": ".py",
   "mimetype": "text/x-python",
   "name": "python",
   "nbconvert_exporter": "python",
   "pygments_lexer": "ipython3",
   "version": "3.11.7"
  }
 },
 "nbformat": 4,
 "nbformat_minor": 4
}
