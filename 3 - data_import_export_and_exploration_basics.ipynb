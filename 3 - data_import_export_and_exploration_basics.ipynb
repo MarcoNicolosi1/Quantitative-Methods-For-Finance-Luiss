{
 "cells": [
  {
   "cell_type": "markdown",
   "id": "3b5e57d5-eb85-43a3-b7fd-04c7be01ef79",
   "metadata": {},
   "source": [
    "### Class 3\n",
    "\n",
    "##### 1. Introduction and Importing Necessary Libraries\n",
    "##### 2. Loading Data from a CSV File\n",
    "##### 3. Loading Data from an Excel File\n",
    "##### 4. Exporting Data to a New CSV File\n",
    "##### 5. Exporting Data to a New Excel File\n",
    "##### 6. Basic Data Exploration - Overview of DataFrame\n",
    "##### 7. Basic Data Exploration - Descriptive Statistics\n",
    "##### 8. Checking for Missing Data\n",
    "##### 9. Accessing Specific Columns and Rows\n",
    "##### 10. Filtering Data Based on Conditions\n",
    "##### 11. Downloading Historical Stock Data from yFinance"
   ]
  },
  {
   "cell_type": "markdown",
   "id": "7ce287ca-d379-4ba0-a9be-f743c2ecbe0e",
   "metadata": {},
   "source": [
    "###### 1. Introduction and Importing Necessary Libraries"
   ]
  },
  {
   "cell_type": "code",
   "execution_count": 1,
   "id": "e277c343-998a-4ccc-9064-a9f14c4a5f8a",
   "metadata": {},
   "outputs": [],
   "source": [
    "# Import necessary libraries for data handling\n",
    "# pandas is used for data manipulation and analysis\n",
    "# openpyxl is used for reading/writing Excel files\n",
    "\n",
    "import pandas as pd  # Import pandas with the alias 'pd'\n",
    "import yfinance as yf  # Import yfinance with the alias 'yf'\n",
    "\n",
    "# In this lesson, we will work with CSV and Excel (XLSX) files.\n",
    "# Make sure you have installed the required libraries:\n",
    "# - pandas: pip install pandas\n",
    "# - openpyxl: pip install openpyxl (needed for Excel files)\n",
    "# - yfinance: pip install yfinance (download historical data from Yahoo Finance)\n"
   ]
  },
  {
   "cell_type": "markdown",
   "id": "d5e63794-cfcf-4485-b855-a79ae472983f",
   "metadata": {},
   "source": [
    "###### 2. Loading Data from a CSV File"
   ]
  },
  {
   "cell_type": "code",
   "execution_count": 2,
   "id": "06a9954b-2480-4605-83dc-9f96a2beb66c",
   "metadata": {},
   "outputs": [
    {
     "name": "stdout",
     "output_type": "stream",
     "text": [
      "First 5 rows of the CSV data:\n"
     ]
    },
    {
     "data": {
      "text/html": [
       "<div>\n",
       "<style scoped>\n",
       "    .dataframe tbody tr th:only-of-type {\n",
       "        vertical-align: middle;\n",
       "    }\n",
       "\n",
       "    .dataframe tbody tr th {\n",
       "        vertical-align: top;\n",
       "    }\n",
       "\n",
       "    .dataframe thead th {\n",
       "        text-align: right;\n",
       "    }\n",
       "</style>\n",
       "<table border=\"1\" class=\"dataframe\">\n",
       "  <thead>\n",
       "    <tr style=\"text-align: right;\">\n",
       "      <th></th>\n",
       "      <th>Date</th>\n",
       "      <th>AAPL</th>\n",
       "      <th>MSFT</th>\n",
       "      <th>GOOGL</th>\n",
       "      <th>AMZN</th>\n",
       "      <th>NVDA</th>\n",
       "      <th>META</th>\n",
       "    </tr>\n",
       "  </thead>\n",
       "  <tbody>\n",
       "    <tr>\n",
       "      <th>0</th>\n",
       "      <td>2024-06-24</td>\n",
       "      <td>208.139999</td>\n",
       "      <td>447.670013</td>\n",
       "      <td>179.220001</td>\n",
       "      <td>185.570007</td>\n",
       "      <td>118.110001</td>\n",
       "      <td>498.910004</td>\n",
       "    </tr>\n",
       "    <tr>\n",
       "      <th>1</th>\n",
       "      <td>2024-06-25</td>\n",
       "      <td>209.070007</td>\n",
       "      <td>450.950012</td>\n",
       "      <td>184.029999</td>\n",
       "      <td>186.339996</td>\n",
       "      <td>126.089996</td>\n",
       "      <td>510.600006</td>\n",
       "    </tr>\n",
       "    <tr>\n",
       "      <th>2</th>\n",
       "      <td>2024-06-26</td>\n",
       "      <td>213.250000</td>\n",
       "      <td>452.160004</td>\n",
       "      <td>183.880005</td>\n",
       "      <td>193.610001</td>\n",
       "      <td>126.400002</td>\n",
       "      <td>513.119995</td>\n",
       "    </tr>\n",
       "    <tr>\n",
       "      <th>3</th>\n",
       "      <td>2024-06-27</td>\n",
       "      <td>214.100006</td>\n",
       "      <td>452.850006</td>\n",
       "      <td>185.410004</td>\n",
       "      <td>197.850006</td>\n",
       "      <td>123.989998</td>\n",
       "      <td>519.559998</td>\n",
       "    </tr>\n",
       "    <tr>\n",
       "      <th>4</th>\n",
       "      <td>2024-06-28</td>\n",
       "      <td>210.619995</td>\n",
       "      <td>446.950012</td>\n",
       "      <td>182.149994</td>\n",
       "      <td>193.250000</td>\n",
       "      <td>123.540001</td>\n",
       "      <td>504.220001</td>\n",
       "    </tr>\n",
       "  </tbody>\n",
       "</table>\n",
       "</div>"
      ],
      "text/plain": [
       "         Date        AAPL        MSFT       GOOGL        AMZN        NVDA  \\\n",
       "0  2024-06-24  208.139999  447.670013  179.220001  185.570007  118.110001   \n",
       "1  2024-06-25  209.070007  450.950012  184.029999  186.339996  126.089996   \n",
       "2  2024-06-26  213.250000  452.160004  183.880005  193.610001  126.400002   \n",
       "3  2024-06-27  214.100006  452.850006  185.410004  197.850006  123.989998   \n",
       "4  2024-06-28  210.619995  446.950012  182.149994  193.250000  123.540001   \n",
       "\n",
       "         META  \n",
       "0  498.910004  \n",
       "1  510.600006  \n",
       "2  513.119995  \n",
       "3  519.559998  \n",
       "4  504.220001  "
      ]
     },
     "execution_count": 2,
     "metadata": {},
     "output_type": "execute_result"
    }
   ],
   "source": [
    "# Load data from a CSV file\n",
    "# For this example, we'll assume you have a file named 'top_6_sp500_prices.csv' in the same directory as this notebook.\n",
    "\n",
    "# The 'read_csv' function reads data from a CSV file and converts it into a DataFrame, which is a table-like data structure.\n",
    "\n",
    "csv_data = pd.read_csv('top_6_sp500_prices.csv')\n",
    "\n",
    "# Display the first 5 rows of the data using the 'head()' method\n",
    "print(\"First 5 rows of the CSV data:\")\n",
    "csv_data.head()\n",
    "\n",
    "# Note: If you get an error, make sure that 'top_6_sp500_prices.csv' is in the same directory as this notebook.\n",
    "# You can also provide the full path to the file if it's located elsewhere.\n"
   ]
  },
  {
   "cell_type": "code",
   "execution_count": 3,
   "id": "ba2aabd6-9e92-4770-82cf-f5ef50fd2576",
   "metadata": {},
   "outputs": [
    {
     "data": {
      "text/plain": [
       "pandas.core.frame.DataFrame"
      ]
     },
     "execution_count": 3,
     "metadata": {},
     "output_type": "execute_result"
    }
   ],
   "source": [
    "type(csv_data)"
   ]
  },
  {
   "cell_type": "markdown",
   "id": "d03acc75-2c0d-4a0b-b4a1-31a84490630b",
   "metadata": {},
   "source": [
    "###### 3.  Loading Data from an Excel File"
   ]
  },
  {
   "cell_type": "code",
   "execution_count": 4,
   "id": "657d0fb7-5607-4f6e-b39f-cf16dbe264d0",
   "metadata": {},
   "outputs": [
    {
     "name": "stdout",
     "output_type": "stream",
     "text": [
      "First 5 rows of the Excel data:\n"
     ]
    },
    {
     "data": {
      "text/html": [
       "<div>\n",
       "<style scoped>\n",
       "    .dataframe tbody tr th:only-of-type {\n",
       "        vertical-align: middle;\n",
       "    }\n",
       "\n",
       "    .dataframe tbody tr th {\n",
       "        vertical-align: top;\n",
       "    }\n",
       "\n",
       "    .dataframe thead th {\n",
       "        text-align: right;\n",
       "    }\n",
       "</style>\n",
       "<table border=\"1\" class=\"dataframe\">\n",
       "  <thead>\n",
       "    <tr style=\"text-align: right;\">\n",
       "      <th></th>\n",
       "      <th>Date</th>\n",
       "      <th>AAPL</th>\n",
       "      <th>MSFT</th>\n",
       "      <th>GOOGL</th>\n",
       "      <th>AMZN</th>\n",
       "      <th>NVDA</th>\n",
       "      <th>META</th>\n",
       "    </tr>\n",
       "  </thead>\n",
       "  <tbody>\n",
       "    <tr>\n",
       "      <th>0</th>\n",
       "      <td>2024-06-24</td>\n",
       "      <td>208.139999</td>\n",
       "      <td>447.670013</td>\n",
       "      <td>179.220001</td>\n",
       "      <td>185.570007</td>\n",
       "      <td>118.110001</td>\n",
       "      <td>498.910004</td>\n",
       "    </tr>\n",
       "    <tr>\n",
       "      <th>1</th>\n",
       "      <td>2024-06-25</td>\n",
       "      <td>209.070007</td>\n",
       "      <td>450.950012</td>\n",
       "      <td>184.029999</td>\n",
       "      <td>186.339996</td>\n",
       "      <td>126.089996</td>\n",
       "      <td>510.600006</td>\n",
       "    </tr>\n",
       "    <tr>\n",
       "      <th>2</th>\n",
       "      <td>2024-06-26</td>\n",
       "      <td>213.250000</td>\n",
       "      <td>452.160004</td>\n",
       "      <td>183.880005</td>\n",
       "      <td>193.610001</td>\n",
       "      <td>126.400002</td>\n",
       "      <td>513.119995</td>\n",
       "    </tr>\n",
       "    <tr>\n",
       "      <th>3</th>\n",
       "      <td>2024-06-27</td>\n",
       "      <td>214.100006</td>\n",
       "      <td>452.850006</td>\n",
       "      <td>185.410004</td>\n",
       "      <td>197.850006</td>\n",
       "      <td>123.989998</td>\n",
       "      <td>519.559998</td>\n",
       "    </tr>\n",
       "    <tr>\n",
       "      <th>4</th>\n",
       "      <td>2024-06-28</td>\n",
       "      <td>210.619995</td>\n",
       "      <td>446.950012</td>\n",
       "      <td>182.149994</td>\n",
       "      <td>193.250000</td>\n",
       "      <td>123.540001</td>\n",
       "      <td>504.220001</td>\n",
       "    </tr>\n",
       "  </tbody>\n",
       "</table>\n",
       "</div>"
      ],
      "text/plain": [
       "        Date        AAPL        MSFT       GOOGL        AMZN        NVDA  \\\n",
       "0 2024-06-24  208.139999  447.670013  179.220001  185.570007  118.110001   \n",
       "1 2024-06-25  209.070007  450.950012  184.029999  186.339996  126.089996   \n",
       "2 2024-06-26  213.250000  452.160004  183.880005  193.610001  126.400002   \n",
       "3 2024-06-27  214.100006  452.850006  185.410004  197.850006  123.989998   \n",
       "4 2024-06-28  210.619995  446.950012  182.149994  193.250000  123.540001   \n",
       "\n",
       "         META  \n",
       "0  498.910004  \n",
       "1  510.600006  \n",
       "2  513.119995  \n",
       "3  519.559998  \n",
       "4  504.220001  "
      ]
     },
     "execution_count": 4,
     "metadata": {},
     "output_type": "execute_result"
    }
   ],
   "source": [
    "# Load data from an Excel file\n",
    "# For this example, we'll assume you have a file named 'top_6_sp500_prices.xlsx' in the same directory as this notebook.\n",
    "\n",
    "# The 'read_excel' function reads data from an Excel file and converts it into a DataFrame.\n",
    "excel_data = pd.read_excel('top_6_sp500_prices.xlsx')\n",
    "\n",
    "# Display the first 5 rows of the data\n",
    "print(\"First 5 rows of the Excel data:\")\n",
    "excel_data.head()\n",
    "\n",
    "# Note: Ensure that 'top_6_sp500_prices.xlsx' is available in the same directory as this notebook.\n",
    "# You may need to specify the sheet name if your file has multiple sheets: pd.read_excel('top_6_sp500_prices.xlsx', sheet_name='Sheet1')\n"
   ]
  },
  {
   "cell_type": "code",
   "execution_count": 5,
   "id": "991c5d84-f18a-4b73-89cb-50959b1bcd29",
   "metadata": {},
   "outputs": [
    {
     "data": {
      "text/html": [
       "<div>\n",
       "<style scoped>\n",
       "    .dataframe tbody tr th:only-of-type {\n",
       "        vertical-align: middle;\n",
       "    }\n",
       "\n",
       "    .dataframe tbody tr th {\n",
       "        vertical-align: top;\n",
       "    }\n",
       "\n",
       "    .dataframe thead th {\n",
       "        text-align: right;\n",
       "    }\n",
       "</style>\n",
       "<table border=\"1\" class=\"dataframe\">\n",
       "  <thead>\n",
       "    <tr style=\"text-align: right;\">\n",
       "      <th></th>\n",
       "      <th>Date</th>\n",
       "      <th>AAPL</th>\n",
       "      <th>MSFT</th>\n",
       "      <th>GOOGL</th>\n",
       "      <th>AMZN</th>\n",
       "      <th>NVDA</th>\n",
       "      <th>META</th>\n",
       "    </tr>\n",
       "  </thead>\n",
       "  <tbody>\n",
       "    <tr>\n",
       "      <th>59</th>\n",
       "      <td>2024-09-17</td>\n",
       "      <td>216.789993</td>\n",
       "      <td>435.149994</td>\n",
       "      <td>159.320007</td>\n",
       "      <td>186.880005</td>\n",
       "      <td>115.589996</td>\n",
       "      <td>536.320007</td>\n",
       "    </tr>\n",
       "    <tr>\n",
       "      <th>60</th>\n",
       "      <td>2024-09-18</td>\n",
       "      <td>220.690002</td>\n",
       "      <td>430.809998</td>\n",
       "      <td>159.809998</td>\n",
       "      <td>186.429993</td>\n",
       "      <td>113.370003</td>\n",
       "      <td>537.950012</td>\n",
       "    </tr>\n",
       "    <tr>\n",
       "      <th>61</th>\n",
       "      <td>2024-09-19</td>\n",
       "      <td>228.869995</td>\n",
       "      <td>438.690002</td>\n",
       "      <td>162.139999</td>\n",
       "      <td>189.869995</td>\n",
       "      <td>117.870003</td>\n",
       "      <td>559.099976</td>\n",
       "    </tr>\n",
       "    <tr>\n",
       "      <th>62</th>\n",
       "      <td>2024-09-20</td>\n",
       "      <td>228.199997</td>\n",
       "      <td>435.269989</td>\n",
       "      <td>163.589996</td>\n",
       "      <td>191.600006</td>\n",
       "      <td>116.000000</td>\n",
       "      <td>561.349976</td>\n",
       "    </tr>\n",
       "    <tr>\n",
       "      <th>63</th>\n",
       "      <td>2024-09-23</td>\n",
       "      <td>226.470001</td>\n",
       "      <td>433.510010</td>\n",
       "      <td>161.850006</td>\n",
       "      <td>193.880005</td>\n",
       "      <td>116.260002</td>\n",
       "      <td>564.409973</td>\n",
       "    </tr>\n",
       "  </tbody>\n",
       "</table>\n",
       "</div>"
      ],
      "text/plain": [
       "          Date        AAPL        MSFT       GOOGL        AMZN        NVDA  \\\n",
       "59  2024-09-17  216.789993  435.149994  159.320007  186.880005  115.589996   \n",
       "60  2024-09-18  220.690002  430.809998  159.809998  186.429993  113.370003   \n",
       "61  2024-09-19  228.869995  438.690002  162.139999  189.869995  117.870003   \n",
       "62  2024-09-20  228.199997  435.269989  163.589996  191.600006  116.000000   \n",
       "63  2024-09-23  226.470001  433.510010  161.850006  193.880005  116.260002   \n",
       "\n",
       "          META  \n",
       "59  536.320007  \n",
       "60  537.950012  \n",
       "61  559.099976  \n",
       "62  561.349976  \n",
       "63  564.409973  "
      ]
     },
     "execution_count": 5,
     "metadata": {},
     "output_type": "execute_result"
    }
   ],
   "source": [
    "csv_data.tail()"
   ]
  },
  {
   "cell_type": "markdown",
   "id": "92b28c3a-dcb7-4ce1-a086-7618afe46ffb",
   "metadata": {},
   "source": [
    "###### 4.  Exporting Data to a New CSV File"
   ]
  },
  {
   "cell_type": "code",
   "execution_count": 6,
   "id": "0591790b-85b7-4dae-8199-9bf45799ff8c",
   "metadata": {},
   "outputs": [
    {
     "name": "stdout",
     "output_type": "stream",
     "text": [
      "Data has been exported to 'exported_data.csv'\n"
     ]
    }
   ],
   "source": [
    "# Export the data to a new CSV file\n",
    "# We will save the 'csv_data' DataFrame to a new file called 'exported_data.csv'\n",
    "\n",
    "csv_data.to_csv('exported_data.csv', index=False)  # Set index=False to avoid saving the index as a separate column\n",
    "\n",
    "print(\"Data has been exported to 'exported_data.csv'\")\n",
    "# Check the current directory to confirm that the file has been created\n"
   ]
  },
  {
   "cell_type": "markdown",
   "id": "45c3f6a1-5dfe-4b4c-82a8-a38fe555da76",
   "metadata": {},
   "source": [
    "###### 5. Exporting Data to a New Excel File"
   ]
  },
  {
   "cell_type": "code",
   "execution_count": 7,
   "id": "5c363912-dfe5-4987-928e-a6c0b7d4384a",
   "metadata": {},
   "outputs": [
    {
     "name": "stdout",
     "output_type": "stream",
     "text": [
      "Data has been exported to 'exported_data.xlsx'\n"
     ]
    }
   ],
   "source": [
    "# Export the data to a new Excel file\n",
    "# We will save the 'excel_data' DataFrame to a new file called 'exported_data.xlsx'\n",
    "\n",
    "excel_data.to_excel('exported_data.xlsx', index=False)  # Again, set index=False to avoid saving the index\n",
    "\n",
    "print(\"Data has been exported to 'exported_data.xlsx'\")\n",
    "# Check the current directory to confirm that the file has been created\n"
   ]
  },
  {
   "cell_type": "markdown",
   "id": "b10cc72a-9310-4cfb-bedf-064bf464da4a",
   "metadata": {},
   "source": [
    "###### 6. Basic Data Exploration - Overview of DataFrame"
   ]
  },
  {
   "cell_type": "code",
   "execution_count": 8,
   "id": "83ce172b-6a14-4109-83b8-bfcb3e329d4f",
   "metadata": {},
   "outputs": [
    {
     "name": "stdout",
     "output_type": "stream",
     "text": [
      "DataFrame Information:\n",
      "<class 'pandas.core.frame.DataFrame'>\n",
      "RangeIndex: 64 entries, 0 to 63\n",
      "Data columns (total 7 columns):\n",
      " #   Column  Non-Null Count  Dtype  \n",
      "---  ------  --------------  -----  \n",
      " 0   Date    64 non-null     object \n",
      " 1   AAPL    64 non-null     float64\n",
      " 2   MSFT    64 non-null     float64\n",
      " 3   GOOGL   64 non-null     float64\n",
      " 4   AMZN    64 non-null     float64\n",
      " 5   NVDA    64 non-null     float64\n",
      " 6   META    64 non-null     float64\n",
      "dtypes: float64(6), object(1)\n",
      "memory usage: 3.6+ KB\n"
     ]
    }
   ],
   "source": [
    "# Let's explore the CSV data we loaded earlier in 'csv_data'\n",
    "\n",
    "# Display the first few rows using the 'head()' method\n",
    "#print(\"Displaying the first 5 rows of the CSV data:\")\n",
    "#csv_data.head()\n",
    "\n",
    "# Display the last few rows using the 'tail()' method\n",
    "#print(\"Displaying the last 5 rows of the CSV data:\")\n",
    "#display(csv_data.tail())\n",
    "\n",
    "# Get a summary of the DataFrame using the 'info()' method\n",
    "print(\"DataFrame Information:\")\n",
    "csv_data.info()\n",
    "\n",
    "# The 'info()' method gives us:\n",
    "# - The total number of rows and columns\n",
    "# - The column names and their data types\n",
    "# - The count of non-null (NaN) values in each column\n"
   ]
  },
  {
   "cell_type": "markdown",
   "id": "e66358e9-6f49-409d-ba28-94dd305752c5",
   "metadata": {},
   "source": [
    "###### 7. Basic Data Exploration - Descriptive Statistics"
   ]
  },
  {
   "cell_type": "code",
   "execution_count": 9,
   "id": "8c049729-d10c-49c2-9ebb-b27f5a64e5cc",
   "metadata": {},
   "outputs": [
    {
     "name": "stdout",
     "output_type": "stream",
     "text": [
      "Descriptive statistics for numerical columns in the CSV data:\n"
     ]
    },
    {
     "data": {
      "text/html": [
       "<div>\n",
       "<style scoped>\n",
       "    .dataframe tbody tr th:only-of-type {\n",
       "        vertical-align: middle;\n",
       "    }\n",
       "\n",
       "    .dataframe tbody tr th {\n",
       "        vertical-align: top;\n",
       "    }\n",
       "\n",
       "    .dataframe thead th {\n",
       "        text-align: right;\n",
       "    }\n",
       "</style>\n",
       "<table border=\"1\" class=\"dataframe\">\n",
       "  <thead>\n",
       "    <tr style=\"text-align: right;\">\n",
       "      <th></th>\n",
       "      <th>AAPL</th>\n",
       "      <th>MSFT</th>\n",
       "      <th>GOOGL</th>\n",
       "      <th>AMZN</th>\n",
       "      <th>NVDA</th>\n",
       "      <th>META</th>\n",
       "    </tr>\n",
       "  </thead>\n",
       "  <tbody>\n",
       "    <tr>\n",
       "      <th>count</th>\n",
       "      <td>64.000000</td>\n",
       "      <td>64.000000</td>\n",
       "      <td>64.000000</td>\n",
       "      <td>64.000000</td>\n",
       "      <td>64.000000</td>\n",
       "      <td>64.000000</td>\n",
       "    </tr>\n",
       "    <tr>\n",
       "      <th>mean</th>\n",
       "      <td>221.960938</td>\n",
       "      <td>429.022968</td>\n",
       "      <td>169.277969</td>\n",
       "      <td>182.530469</td>\n",
       "      <td>118.230156</td>\n",
       "      <td>509.970936</td>\n",
       "    </tr>\n",
       "    <tr>\n",
       "      <th>std</th>\n",
       "      <td>6.418134</td>\n",
       "      <td>19.494144</td>\n",
       "      <td>11.755695</td>\n",
       "      <td>10.395212</td>\n",
       "      <td>8.832080</td>\n",
       "      <td>24.964344</td>\n",
       "    </tr>\n",
       "    <tr>\n",
       "      <th>min</th>\n",
       "      <td>207.229996</td>\n",
       "      <td>395.149994</td>\n",
       "      <td>148.660004</td>\n",
       "      <td>161.020004</td>\n",
       "      <td>98.910004</td>\n",
       "      <td>453.410004</td>\n",
       "    </tr>\n",
       "    <tr>\n",
       "      <th>25%</th>\n",
       "      <td>218.170006</td>\n",
       "      <td>413.967506</td>\n",
       "      <td>161.067501</td>\n",
       "      <td>175.972504</td>\n",
       "      <td>112.107498</td>\n",
       "      <td>495.642502</td>\n",
       "    </tr>\n",
       "    <tr>\n",
       "      <th>50%</th>\n",
       "      <td>222.440002</td>\n",
       "      <td>425.034988</td>\n",
       "      <td>166.005005</td>\n",
       "      <td>182.840004</td>\n",
       "      <td>118.095001</td>\n",
       "      <td>512.720001</td>\n",
       "    </tr>\n",
       "    <tr>\n",
       "      <th>75%</th>\n",
       "      <td>226.495003</td>\n",
       "      <td>445.375008</td>\n",
       "      <td>181.699997</td>\n",
       "      <td>190.302498</td>\n",
       "      <td>125.895000</td>\n",
       "      <td>527.564987</td>\n",
       "    </tr>\n",
       "    <tr>\n",
       "      <th>max</th>\n",
       "      <td>234.820007</td>\n",
       "      <td>467.559998</td>\n",
       "      <td>191.179993</td>\n",
       "      <td>200.000000</td>\n",
       "      <td>134.910004</td>\n",
       "      <td>564.409973</td>\n",
       "    </tr>\n",
       "  </tbody>\n",
       "</table>\n",
       "</div>"
      ],
      "text/plain": [
       "             AAPL        MSFT       GOOGL        AMZN        NVDA        META\n",
       "count   64.000000   64.000000   64.000000   64.000000   64.000000   64.000000\n",
       "mean   221.960938  429.022968  169.277969  182.530469  118.230156  509.970936\n",
       "std      6.418134   19.494144   11.755695   10.395212    8.832080   24.964344\n",
       "min    207.229996  395.149994  148.660004  161.020004   98.910004  453.410004\n",
       "25%    218.170006  413.967506  161.067501  175.972504  112.107498  495.642502\n",
       "50%    222.440002  425.034988  166.005005  182.840004  118.095001  512.720001\n",
       "75%    226.495003  445.375008  181.699997  190.302498  125.895000  527.564987\n",
       "max    234.820007  467.559998  191.179993  200.000000  134.910004  564.409973"
      ]
     },
     "metadata": {},
     "output_type": "display_data"
    }
   ],
   "source": [
    "# Display basic statistical details using the 'describe()' method\n",
    "print(\"Descriptive statistics for numerical columns in the CSV data:\")\n",
    "display(csv_data.describe())\n",
    "\n",
    "# The 'describe()' method shows:\n",
    "# - Count: The number of non-null values\n",
    "# - Mean: The average value\n",
    "# - Standard deviation (std): How much the values deviate from the mean\n",
    "# - Minimum, Maximum, and Quartiles (25%, 50%, 75%)\n",
    "# This is useful for getting a quick understanding of the data distribution.\n"
   ]
  },
  {
   "cell_type": "markdown",
   "id": "27498721-5b0c-43ac-9ee2-a533342e98f5",
   "metadata": {},
   "source": [
    "###### 8. Checking for Missing Data"
   ]
  },
  {
   "cell_type": "code",
   "execution_count": 10,
   "id": "63e5a13b-576a-4956-b479-89fbec5d4cb2",
   "metadata": {},
   "outputs": [
    {
     "name": "stdout",
     "output_type": "stream",
     "text": [
      "Checking for missing data in the CSV DataFrame:\n"
     ]
    },
    {
     "data": {
      "text/plain": [
       "Date     0\n",
       "AAPL     0\n",
       "MSFT     0\n",
       "GOOGL    0\n",
       "AMZN     0\n",
       "NVDA     0\n",
       "META     0\n",
       "dtype: int64"
      ]
     },
     "metadata": {},
     "output_type": "display_data"
    }
   ],
   "source": [
    "# Check for missing data in the DataFrame using 'isnull()' and 'sum()'\n",
    "print(\"Checking for missing data in the CSV DataFrame:\")\n",
    "missing_data = csv_data.isnull().sum()\n",
    "display(missing_data)\n",
    "\n",
    "# This tells us how many missing (null) values there are in each column.\n",
    "# If you find missing data, you can decide how to handle it (e.g., removing or filling it in).\n"
   ]
  },
  {
   "cell_type": "markdown",
   "id": "f1a2ff82-bd29-468b-b1c5-5355a56c71b5",
   "metadata": {},
   "source": [
    "###### 9. Accessing Specific Columns and Rows"
   ]
  },
  {
   "cell_type": "code",
   "execution_count": 14,
   "id": "53409b2b-8893-4aaa-b377-a6249eee2989",
   "metadata": {
    "scrolled": true
   },
   "outputs": [
    {
     "data": {
      "text/html": [
       "<div>\n",
       "<style scoped>\n",
       "    .dataframe tbody tr th:only-of-type {\n",
       "        vertical-align: middle;\n",
       "    }\n",
       "\n",
       "    .dataframe tbody tr th {\n",
       "        vertical-align: top;\n",
       "    }\n",
       "\n",
       "    .dataframe thead th {\n",
       "        text-align: right;\n",
       "    }\n",
       "</style>\n",
       "<table border=\"1\" class=\"dataframe\">\n",
       "  <thead>\n",
       "    <tr style=\"text-align: right;\">\n",
       "      <th></th>\n",
       "      <th>Date</th>\n",
       "      <th>AAPL</th>\n",
       "      <th>MSFT</th>\n",
       "    </tr>\n",
       "  </thead>\n",
       "  <tbody>\n",
       "    <tr>\n",
       "      <th>10</th>\n",
       "      <td>2024-07-09</td>\n",
       "      <td>228.679993</td>\n",
       "      <td>459.540009</td>\n",
       "    </tr>\n",
       "    <tr>\n",
       "      <th>11</th>\n",
       "      <td>2024-07-10</td>\n",
       "      <td>232.979996</td>\n",
       "      <td>466.250000</td>\n",
       "    </tr>\n",
       "    <tr>\n",
       "      <th>12</th>\n",
       "      <td>2024-07-11</td>\n",
       "      <td>227.570007</td>\n",
       "      <td>454.700012</td>\n",
       "    </tr>\n",
       "    <tr>\n",
       "      <th>13</th>\n",
       "      <td>2024-07-12</td>\n",
       "      <td>230.539993</td>\n",
       "      <td>453.549988</td>\n",
       "    </tr>\n",
       "    <tr>\n",
       "      <th>14</th>\n",
       "      <td>2024-07-15</td>\n",
       "      <td>234.399994</td>\n",
       "      <td>453.959991</td>\n",
       "    </tr>\n",
       "  </tbody>\n",
       "</table>\n",
       "</div>"
      ],
      "text/plain": [
       "          Date        AAPL        MSFT\n",
       "10  2024-07-09  228.679993  459.540009\n",
       "11  2024-07-10  232.979996  466.250000\n",
       "12  2024-07-11  227.570007  454.700012\n",
       "13  2024-07-12  230.539993  453.549988\n",
       "14  2024-07-15  234.399994  453.959991"
      ]
     },
     "execution_count": 14,
     "metadata": {},
     "output_type": "execute_result"
    }
   ],
   "source": [
    "# Access a specific column using the column name\n",
    "# For example, let's access a column named 'AAPL' \n",
    "\n",
    "# print(\"Displaying the first 5 entries of 'AAPL':\")\n",
    "# new_series = csv_data['AAPL']\n",
    "\n",
    "# Access multiple columns by providing a list of column names\n",
    "# print(\"Displaying the first 5 rows of 'AAPL' and 'MSFT':\")\n",
    "# new_var = csv_data[['Date','AAPL', 'MSFT']]\n",
    "\n",
    "# Access specific rows using the 'iloc' method (index-based)\n",
    "# Display the first 5 rows (index 0 to 4)\n",
    "# print(\"Displaying rows 10 to 14 using 'iloc':\")\n",
    "# display(csv_data.iloc[10:15])\n",
    "\n",
    "new_var = csv_data[['Date','AAPL', 'MSFT']].iloc[10:15]\n",
    "new_var\n"
   ]
  },
  {
   "cell_type": "code",
   "execution_count": 45,
   "id": "ce6f8d9b-8d66-4d83-83b0-ddb73fee4801",
   "metadata": {},
   "outputs": [
    {
     "data": {
      "text/plain": [
       "list"
      ]
     },
     "execution_count": 45,
     "metadata": {},
     "output_type": "execute_result"
    }
   ],
   "source": [
    "type(['Date','AAPL', 'MSFT'])"
   ]
  },
  {
   "cell_type": "markdown",
   "id": "2ae8afc2-dd00-408b-a9d6-4ba08eda1d35",
   "metadata": {},
   "source": [
    "###### 10. Filtering Data Based on Conditions"
   ]
  },
  {
   "cell_type": "code",
   "execution_count": 47,
   "id": "61d8ec10-a1c7-4ddd-b7f9-8139cf5b926a",
   "metadata": {},
   "outputs": [
    {
     "name": "stdout",
     "output_type": "stream",
     "text": [
      "Rows where 'AAPL' is greater than 220:\n"
     ]
    },
    {
     "data": {
      "text/html": [
       "<div>\n",
       "<style scoped>\n",
       "    .dataframe tbody tr th:only-of-type {\n",
       "        vertical-align: middle;\n",
       "    }\n",
       "\n",
       "    .dataframe tbody tr th {\n",
       "        vertical-align: top;\n",
       "    }\n",
       "\n",
       "    .dataframe thead th {\n",
       "        text-align: right;\n",
       "    }\n",
       "</style>\n",
       "<table border=\"1\" class=\"dataframe\">\n",
       "  <thead>\n",
       "    <tr style=\"text-align: right;\">\n",
       "      <th></th>\n",
       "      <th>Date</th>\n",
       "      <th>AAPL</th>\n",
       "      <th>MSFT</th>\n",
       "      <th>GOOGL</th>\n",
       "      <th>AMZN</th>\n",
       "      <th>NVDA</th>\n",
       "      <th>META</th>\n",
       "    </tr>\n",
       "  </thead>\n",
       "  <tbody>\n",
       "  </tbody>\n",
       "</table>\n",
       "</div>"
      ],
      "text/plain": [
       "Empty DataFrame\n",
       "Columns: [Date, AAPL, MSFT, GOOGL, AMZN, NVDA, META]\n",
       "Index: []"
      ]
     },
     "metadata": {},
     "output_type": "display_data"
    }
   ],
   "source": [
    "# You can filter data based on specific conditions\n",
    "# For example, let's filter rows where values in 'AAPL' are greater than a certain value (e.g., 220)\n",
    "\n",
    "filtered_data = csv_data[csv_data['AAPL'] == 100000]\n",
    "print(\"Rows where 'AAPL' is greater than 220:\")\n",
    "display(filtered_data.head())\n",
    "\n",
    "# This shows how to select only the rows that meet a certain condition, which is useful for data analysis.\n"
   ]
  },
  {
   "cell_type": "markdown",
   "id": "05507b10-504a-4c47-881c-fd66cd692f39",
   "metadata": {},
   "source": [
    "###### 11. Downloading Historical Stock Data from yFinance"
   ]
  },
  {
   "cell_type": "code",
   "execution_count": 51,
   "id": "0872ab6d-e979-4446-b289-fad6c5402519",
   "metadata": {},
   "outputs": [
    {
     "name": "stderr",
     "output_type": "stream",
     "text": [
      "[*********************100%***********************]  2 of 2 completed\n"
     ]
    }
   ],
   "source": [
    "# Define the ticker symbol for Apple Inc.\n",
    "ticker_symbol = ['BTC-USD', \"AAPL\"]  # BTC is the ticker for Bitcoin price in US dollars.\n",
    "\n",
    "# Define the start and end dates for the last 3 months\n",
    "# For example, if today is September 23, 2024, then 3 months ago would be June 23, 2024\n",
    "start_date = '2024-06-23'\n",
    "end_date = '2024-09-23'\n",
    "\n",
    "# Download the historical data for Apple using the start and end dates\n",
    "btc_data = yf.download(ticker_symbol, start=start_date, end=end_date)\n",
    "\n",
    "# Display the first few rows of the downloaded data\n",
    "#print(\"BTC data from June 23, 2024 to September 23, 2024:\")\n",
    "#display(btc_data.head())\n",
    "\n",
    "# Note: The data fetched will be in the form of a DataFrame with columns like\n",
    "# 'Open', 'High', 'Low', 'Close', 'Adj Close', and 'Volume' for each trading day.\n"
   ]
  },
  {
   "cell_type": "code",
   "execution_count": 52,
   "id": "8fa2be42-8f5c-45b8-8f7a-1740e9adcc7d",
   "metadata": {
    "scrolled": true
   },
   "outputs": [
    {
     "data": {
      "text/html": [
       "<div>\n",
       "<style scoped>\n",
       "    .dataframe tbody tr th:only-of-type {\n",
       "        vertical-align: middle;\n",
       "    }\n",
       "\n",
       "    .dataframe tbody tr th {\n",
       "        vertical-align: top;\n",
       "    }\n",
       "\n",
       "    .dataframe thead tr th {\n",
       "        text-align: left;\n",
       "    }\n",
       "\n",
       "    .dataframe thead tr:last-of-type th {\n",
       "        text-align: right;\n",
       "    }\n",
       "</style>\n",
       "<table border=\"1\" class=\"dataframe\">\n",
       "  <thead>\n",
       "    <tr>\n",
       "      <th>Price</th>\n",
       "      <th colspan=\"2\" halign=\"left\">Adj Close</th>\n",
       "      <th colspan=\"2\" halign=\"left\">Close</th>\n",
       "      <th colspan=\"2\" halign=\"left\">High</th>\n",
       "      <th colspan=\"2\" halign=\"left\">Low</th>\n",
       "      <th colspan=\"2\" halign=\"left\">Open</th>\n",
       "      <th colspan=\"2\" halign=\"left\">Volume</th>\n",
       "    </tr>\n",
       "    <tr>\n",
       "      <th>Ticker</th>\n",
       "      <th>AAPL</th>\n",
       "      <th>BTC-USD</th>\n",
       "      <th>AAPL</th>\n",
       "      <th>BTC-USD</th>\n",
       "      <th>AAPL</th>\n",
       "      <th>BTC-USD</th>\n",
       "      <th>AAPL</th>\n",
       "      <th>BTC-USD</th>\n",
       "      <th>AAPL</th>\n",
       "      <th>BTC-USD</th>\n",
       "      <th>AAPL</th>\n",
       "      <th>BTC-USD</th>\n",
       "    </tr>\n",
       "    <tr>\n",
       "      <th>Date</th>\n",
       "      <th></th>\n",
       "      <th></th>\n",
       "      <th></th>\n",
       "      <th></th>\n",
       "      <th></th>\n",
       "      <th></th>\n",
       "      <th></th>\n",
       "      <th></th>\n",
       "      <th></th>\n",
       "      <th></th>\n",
       "      <th></th>\n",
       "      <th></th>\n",
       "    </tr>\n",
       "  </thead>\n",
       "  <tbody>\n",
       "    <tr>\n",
       "      <th>2024-06-23 00:00:00+00:00</th>\n",
       "      <td>NaN</td>\n",
       "      <td>63180.796875</td>\n",
       "      <td>NaN</td>\n",
       "      <td>63180.796875</td>\n",
       "      <td>NaN</td>\n",
       "      <td>64491.703125</td>\n",
       "      <td>NaN</td>\n",
       "      <td>63180.796875</td>\n",
       "      <td>NaN</td>\n",
       "      <td>64248.964844</td>\n",
       "      <td>NaN</td>\n",
       "      <td>11170471802</td>\n",
       "    </tr>\n",
       "    <tr>\n",
       "      <th>2024-06-24 00:00:00+00:00</th>\n",
       "      <td>207.899353</td>\n",
       "      <td>60277.414062</td>\n",
       "      <td>208.139999</td>\n",
       "      <td>60277.414062</td>\n",
       "      <td>212.699997</td>\n",
       "      <td>63292.527344</td>\n",
       "      <td>206.589996</td>\n",
       "      <td>58601.699219</td>\n",
       "      <td>207.720001</td>\n",
       "      <td>63173.351562</td>\n",
       "      <td>80727000.0</td>\n",
       "      <td>43152133651</td>\n",
       "    </tr>\n",
       "    <tr>\n",
       "      <th>2024-06-25 00:00:00+00:00</th>\n",
       "      <td>208.828293</td>\n",
       "      <td>61804.640625</td>\n",
       "      <td>209.070007</td>\n",
       "      <td>61804.640625</td>\n",
       "      <td>211.380005</td>\n",
       "      <td>62258.261719</td>\n",
       "      <td>208.610001</td>\n",
       "      <td>60239.750000</td>\n",
       "      <td>209.149994</td>\n",
       "      <td>60266.281250</td>\n",
       "      <td>56713900.0</td>\n",
       "      <td>29201215431</td>\n",
       "    </tr>\n",
       "    <tr>\n",
       "      <th>2024-06-26 00:00:00+00:00</th>\n",
       "      <td>213.003448</td>\n",
       "      <td>60811.277344</td>\n",
       "      <td>213.250000</td>\n",
       "      <td>60811.277344</td>\n",
       "      <td>214.860001</td>\n",
       "      <td>62434.136719</td>\n",
       "      <td>210.639999</td>\n",
       "      <td>60695.187500</td>\n",
       "      <td>211.500000</td>\n",
       "      <td>61789.675781</td>\n",
       "      <td>66213200.0</td>\n",
       "      <td>22506003064</td>\n",
       "    </tr>\n",
       "    <tr>\n",
       "      <th>2024-06-27 00:00:00+00:00</th>\n",
       "      <td>213.852478</td>\n",
       "      <td>61604.800781</td>\n",
       "      <td>214.100006</td>\n",
       "      <td>61604.800781</td>\n",
       "      <td>215.740005</td>\n",
       "      <td>62293.863281</td>\n",
       "      <td>212.350006</td>\n",
       "      <td>60585.332031</td>\n",
       "      <td>214.690002</td>\n",
       "      <td>60811.226562</td>\n",
       "      <td>49772700.0</td>\n",
       "      <td>21231745045</td>\n",
       "    </tr>\n",
       "  </tbody>\n",
       "</table>\n",
       "</div>"
      ],
      "text/plain": [
       "Price                       Adj Close                     Close                \\\n",
       "Ticker                           AAPL       BTC-USD        AAPL       BTC-USD   \n",
       "Date                                                                            \n",
       "2024-06-23 00:00:00+00:00         NaN  63180.796875         NaN  63180.796875   \n",
       "2024-06-24 00:00:00+00:00  207.899353  60277.414062  208.139999  60277.414062   \n",
       "2024-06-25 00:00:00+00:00  208.828293  61804.640625  209.070007  61804.640625   \n",
       "2024-06-26 00:00:00+00:00  213.003448  60811.277344  213.250000  60811.277344   \n",
       "2024-06-27 00:00:00+00:00  213.852478  61604.800781  214.100006  61604.800781   \n",
       "\n",
       "Price                            High                       Low                \\\n",
       "Ticker                           AAPL       BTC-USD        AAPL       BTC-USD   \n",
       "Date                                                                            \n",
       "2024-06-23 00:00:00+00:00         NaN  64491.703125         NaN  63180.796875   \n",
       "2024-06-24 00:00:00+00:00  212.699997  63292.527344  206.589996  58601.699219   \n",
       "2024-06-25 00:00:00+00:00  211.380005  62258.261719  208.610001  60239.750000   \n",
       "2024-06-26 00:00:00+00:00  214.860001  62434.136719  210.639999  60695.187500   \n",
       "2024-06-27 00:00:00+00:00  215.740005  62293.863281  212.350006  60585.332031   \n",
       "\n",
       "Price                            Open                    Volume               \n",
       "Ticker                           AAPL       BTC-USD        AAPL      BTC-USD  \n",
       "Date                                                                          \n",
       "2024-06-23 00:00:00+00:00         NaN  64248.964844         NaN  11170471802  \n",
       "2024-06-24 00:00:00+00:00  207.720001  63173.351562  80727000.0  43152133651  \n",
       "2024-06-25 00:00:00+00:00  209.149994  60266.281250  56713900.0  29201215431  \n",
       "2024-06-26 00:00:00+00:00  211.500000  61789.675781  66213200.0  22506003064  \n",
       "2024-06-27 00:00:00+00:00  214.690002  60811.226562  49772700.0  21231745045  "
      ]
     },
     "execution_count": 52,
     "metadata": {},
     "output_type": "execute_result"
    }
   ],
   "source": [
    "btc_data.head()"
   ]
  },
  {
   "cell_type": "code",
   "execution_count": 53,
   "id": "4c277c26-30ae-4f1b-b0ca-3f604f678560",
   "metadata": {},
   "outputs": [
    {
     "name": "stdout",
     "output_type": "stream",
     "text": [
      "<class 'pandas.core.frame.DataFrame'>\n",
      "DatetimeIndex: 92 entries, 2024-06-23 00:00:00+00:00 to 2024-09-22 00:00:00+00:00\n",
      "Freq: D\n",
      "Data columns (total 12 columns):\n",
      " #   Column                Non-Null Count  Dtype  \n",
      "---  ------                --------------  -----  \n",
      " 0   (Adj Close, AAPL)     63 non-null     float64\n",
      " 1   (Adj Close, BTC-USD)  92 non-null     float64\n",
      " 2   (Close, AAPL)         63 non-null     float64\n",
      " 3   (Close, BTC-USD)      92 non-null     float64\n",
      " 4   (High, AAPL)          63 non-null     float64\n",
      " 5   (High, BTC-USD)       92 non-null     float64\n",
      " 6   (Low, AAPL)           63 non-null     float64\n",
      " 7   (Low, BTC-USD)        92 non-null     float64\n",
      " 8   (Open, AAPL)          63 non-null     float64\n",
      " 9   (Open, BTC-USD)       92 non-null     float64\n",
      " 10  (Volume, AAPL)        63 non-null     float64\n",
      " 11  (Volume, BTC-USD)     92 non-null     int64  \n",
      "dtypes: float64(11), int64(1)\n",
      "memory usage: 9.3 KB\n"
     ]
    }
   ],
   "source": [
    "btc_data.info()"
   ]
  },
  {
   "cell_type": "code",
   "execution_count": null,
   "id": "821bf493-4d2d-4d47-a970-eabf836c6fa5",
   "metadata": {},
   "outputs": [],
   "source": []
  }
 ],
 "metadata": {
  "kernelspec": {
   "display_name": "Python 3 (ipykernel)",
   "language": "python",
   "name": "python3"
  },
  "language_info": {
   "codemirror_mode": {
    "name": "ipython",
    "version": 3
   },
   "file_extension": ".py",
   "mimetype": "text/x-python",
   "name": "python",
   "nbconvert_exporter": "python",
   "pygments_lexer": "ipython3",
   "version": "3.11.7"
  }
 },
 "nbformat": 4,
 "nbformat_minor": 5
}
