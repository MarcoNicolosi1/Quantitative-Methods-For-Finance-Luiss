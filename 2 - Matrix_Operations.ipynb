{
 "cells": [
  {
   "cell_type": "markdown",
   "id": "90cd677d",
   "metadata": {},
   "source": [
    "## Class 2"
   ]
  },
  {
   "cell_type": "markdown",
   "id": "8e3ea614",
   "metadata": {},
   "source": [
    "###### 1. The transpose of a vector and a matrix\n",
    "###### 2. Product between matrices and vectors\n",
    "###### 3. Scalar product to compute the value of a portfolio\n",
    "###### 4. Compute determinant of a matrix\n",
    "###### 5. Compute the rank of a matrix\n",
    "###### 6. Compute the inverse of a matrix"
   ]
  },
  {
   "cell_type": "code",
   "execution_count": 1,
   "id": "90a1592d",
   "metadata": {},
   "outputs": [],
   "source": [
    "import numpy as np"
   ]
  },
  {
   "cell_type": "markdown",
   "id": "8997c9aa",
   "metadata": {},
   "source": [
    "### 1. The transpose of a vector and a matrix"
   ]
  },
  {
   "cell_type": "code",
   "execution_count": 2,
   "id": "06f10b79",
   "metadata": {},
   "outputs": [
    {
     "name": "stdout",
     "output_type": "stream",
     "text": [
      "[[0]\n",
      " [3]\n",
      " [5]\n",
      " [1]]\n"
     ]
    }
   ],
   "source": [
    "# Creating a new vector 'x' with 4 elements\n",
    "# This is a column vector (4x1 matrix)\n",
    "x = np.array([[0],[3],[5],[1]])\n",
    "print(x)  # Output: column vector"
   ]
  },
  {
   "cell_type": "code",
   "execution_count": 3,
   "id": "0b6ff0c2",
   "metadata": {},
   "outputs": [
    {
     "name": "stdout",
     "output_type": "stream",
     "text": [
      "[[0 3 5 1]]\n"
     ]
    }
   ],
   "source": [
    "# Transpose of the vector 'x'\n",
    "# The transpose changes the column vector into a row vector\n",
    "x_T = x.transpose()\n",
    "print(x_T)  # Output: row vector"
   ]
  },
  {
   "cell_type": "code",
   "execution_count": 4,
   "id": "a6938b87",
   "metadata": {},
   "outputs": [
    {
     "name": "stdout",
     "output_type": "stream",
     "text": [
      "[[8 5 0 1]\n",
      " [4 2 0 2]]\n"
     ]
    }
   ],
   "source": [
    "# Creating a new matrix 'A' with 2 rows and 4 columns\n",
    "A = np.array([[8,5,0,1],[4,2,0,2]])\n",
    "print(A)  # Output: matrix with 2 rows and 4 columns"
   ]
  },
  {
   "cell_type": "code",
   "execution_count": 5,
   "id": "0b349d8c",
   "metadata": {},
   "outputs": [
    {
     "name": "stdout",
     "output_type": "stream",
     "text": [
      "[[8 4]\n",
      " [5 2]\n",
      " [0 0]\n",
      " [1 2]]\n"
     ]
    }
   ],
   "source": [
    "# Transpose of the matrix 'A'\n",
    "# The transpose changes rows into columns and vice versa\n",
    "A_T = A.transpose()\n",
    "print(A_T)  # Output: matrix with 4 rows and 2 columns"
   ]
  },
  {
   "cell_type": "markdown",
   "id": "4d416e5a",
   "metadata": {},
   "source": [
    "### 2. Product between matrices and vectors"
   ]
  },
  {
   "cell_type": "markdown",
   "id": "7f3bad5e",
   "metadata": {},
   "source": [
    "###### A. Product between 2 vectors"
   ]
  },
  {
   "cell_type": "code",
   "execution_count": 6,
   "id": "d79972ae",
   "metadata": {},
   "outputs": [
    {
     "name": "stdout",
     "output_type": "stream",
     "text": [
      "[[1]\n",
      " [0]\n",
      " [4]\n",
      " [2]]\n"
     ]
    }
   ],
   "source": [
    "# creating a new vector y\n",
    "\n",
    "y = np.array([[1],[0],[4],[2]])\n",
    "print(y)"
   ]
  },
  {
   "cell_type": "code",
   "execution_count": 7,
   "id": "270d82c6",
   "metadata": {},
   "outputs": [
    {
     "name": "stdout",
     "output_type": "stream",
     "text": [
      "[[ 0  0  0  0]\n",
      " [ 3  0 12  6]\n",
      " [ 5  0 20 10]\n",
      " [ 1  0  4  2]]\n",
      "[[22]]\n"
     ]
    }
   ],
   "source": [
    "# x and y are two column vectors (4x1). We can multiply them in two ways:\n",
    "# 1. x@y' is a 4x4 matrix\n",
    "# 2. x'@y is a number (1x1)\n",
    "\n",
    "y_T = y.transpose()\n",
    "print(x@y_T)\n",
    "print(x_T@y)"
   ]
  },
  {
   "cell_type": "markdown",
   "id": "dd20ded4",
   "metadata": {},
   "source": [
    "###### B. Product between 2 matrices"
   ]
  },
  {
   "cell_type": "code",
   "execution_count": 8,
   "id": "fca5a718",
   "metadata": {},
   "outputs": [
    {
     "name": "stdout",
     "output_type": "stream",
     "text": [
      "[[0 2 0 1]\n",
      " [3 3 0 6]]\n"
     ]
    }
   ],
   "source": [
    "# Creating a new matrix B\n",
    "\n",
    "B = np.array([[0,2,0,1],[3,3,0,6]])\n",
    "print(B)"
   ]
  },
  {
   "cell_type": "code",
   "execution_count": 9,
   "id": "72f3cef8",
   "metadata": {},
   "outputs": [
    {
     "name": "stdout",
     "output_type": "stream",
     "text": [
      "(2, 4)\n",
      "(2, 4)\n"
     ]
    }
   ],
   "source": [
    "# A and B are two matrices (2x4). We can multiply them in two ways:\n",
    "# 1. A@B' is a 2x2 matrix\n",
    "# 2. A'@B is a 4x4 matrix\n",
    "\n",
    "print(A.shape)\n",
    "print(B.shape)\n",
    "B_T = B.transpose()"
   ]
  },
  {
   "cell_type": "code",
   "execution_count": 10,
   "id": "ce74fe76",
   "metadata": {},
   "outputs": [
    {
     "name": "stdout",
     "output_type": "stream",
     "text": [
      "[[11 45]\n",
      " [ 6 30]]\n",
      "[[12 28  0 32]\n",
      " [ 6 16  0 17]\n",
      " [ 0  0  0  0]\n",
      " [ 6  8  0 13]]\n"
     ]
    }
   ],
   "source": [
    "print(A@B_T)\n",
    "print(A_T@B)"
   ]
  },
  {
   "cell_type": "markdown",
   "id": "f64f6853",
   "metadata": {},
   "source": [
    "###### C. Product between a matrix and a vector"
   ]
  },
  {
   "cell_type": "code",
   "execution_count": 11,
   "id": "a00020fe",
   "metadata": {},
   "outputs": [
    {
     "name": "stdout",
     "output_type": "stream",
     "text": [
      "(2, 4)\n",
      "(4, 1)\n"
     ]
    }
   ],
   "source": [
    "print(A.shape)\n",
    "print(x.shape)"
   ]
  },
  {
   "cell_type": "code",
   "execution_count": 12,
   "id": "7750b124",
   "metadata": {},
   "outputs": [
    {
     "name": "stdout",
     "output_type": "stream",
     "text": [
      "[[16]\n",
      " [ 8]]\n"
     ]
    }
   ],
   "source": [
    "# we can compute A@x and we obtain a column vector (2x1)\n",
    "print(A@x)"
   ]
  },
  {
   "cell_type": "markdown",
   "id": "7ee63c75",
   "metadata": {},
   "source": [
    "### 3. Scalar product to compute the value of a portfolio"
   ]
  },
  {
   "cell_type": "code",
   "execution_count": 13,
   "id": "707cc8fb",
   "metadata": {},
   "outputs": [
    {
     "name": "stdout",
     "output_type": "stream",
     "text": [
      "[[4]\n",
      " [2]\n",
      " [1]]\n",
      "[[100]\n",
      " [ 80]\n",
      " [120]]\n"
     ]
    }
   ],
   "source": [
    "# Example 13 from the slides\n",
    "a = np.array([[4],[2],[1]]) #number of shares of the assets\n",
    "p = np.array([[100],[80],[120]]) #market value\n",
    "print(a)\n",
    "print(p)"
   ]
  },
  {
   "cell_type": "code",
   "execution_count": 14,
   "id": "b9c70c95",
   "metadata": {},
   "outputs": [
    {
     "name": "stdout",
     "output_type": "stream",
     "text": [
      "[[680]]\n"
     ]
    }
   ],
   "source": [
    "# value of portfolio\n",
    "a_T = a.transpose()\n",
    "V = a_T@p\n",
    "print(V)"
   ]
  },
  {
   "cell_type": "code",
   "execution_count": 15,
   "id": "39e0096f",
   "metadata": {},
   "outputs": [
    {
     "name": "stdout",
     "output_type": "stream",
     "text": [
      "680\n"
     ]
    }
   ],
   "source": [
    "# value of portfolio using function inner\n",
    "# pay attention to apply inner function a and p be row vectors\n",
    "a1 = np.array([4,2,1]) #number of shares of the assets\n",
    "p1 = np.array([100,80,120]) #market value\n",
    "V_1 = np.inner(a1,p1)\n",
    "print(V_1)"
   ]
  },
  {
   "cell_type": "code",
   "execution_count": 16,
   "id": "af2c5d8f",
   "metadata": {},
   "outputs": [],
   "source": [
    "# now create a function\n",
    "\n",
    "def value_portfolio (a,p):\n",
    "    dim_a = a.shape\n",
    "    dim_p = p.shape\n",
    "    if dim_a == dim_p:\n",
    "        return np.inner(a,p)\n",
    "    else:\n",
    "        return \"The dimension of 2 vectors are different\""
   ]
  },
  {
   "cell_type": "code",
   "execution_count": 17,
   "id": "cc7f7f84",
   "metadata": {},
   "outputs": [
    {
     "data": {
      "text/plain": [
       "680"
      ]
     },
     "execution_count": 17,
     "metadata": {},
     "output_type": "execute_result"
    }
   ],
   "source": [
    "# value of portfolio\n",
    "value_portfolio(a1,p1)"
   ]
  },
  {
   "cell_type": "code",
   "execution_count": 18,
   "id": "c7d0dd68",
   "metadata": {},
   "outputs": [],
   "source": [
    "# try with higher dimension\n",
    "a2 = np.array ([1,3,2,5,6,0.5,2])\n",
    "p2 = np.array ([100,106,110,99,120,98,82])"
   ]
  },
  {
   "cell_type": "code",
   "execution_count": 19,
   "id": "70ef3a20",
   "metadata": {
    "scrolled": true
   },
   "outputs": [
    {
     "data": {
      "text/plain": [
       "2066.0"
      ]
     },
     "execution_count": 19,
     "metadata": {},
     "output_type": "execute_result"
    }
   ],
   "source": [
    "# value of portfolio\n",
    "value_portfolio(a2,p2)"
   ]
  },
  {
   "cell_type": "code",
   "execution_count": 20,
   "id": "f6345529",
   "metadata": {},
   "outputs": [
    {
     "name": "stdout",
     "output_type": "stream",
     "text": [
      "(6,)\n",
      "(7,)\n"
     ]
    }
   ],
   "source": [
    "# try with a mistake\n",
    "a3 = np.array ([1,3,2,5,6,0.5])\n",
    "p3 = np.array ([100,106,110,99,120,98,82])\n",
    "print(a3.shape)\n",
    "print(p3.shape)"
   ]
  },
  {
   "cell_type": "code",
   "execution_count": 21,
   "id": "6854ddb4",
   "metadata": {},
   "outputs": [
    {
     "data": {
      "text/plain": [
       "'The dimension of 2 vectors are different'"
      ]
     },
     "execution_count": 21,
     "metadata": {},
     "output_type": "execute_result"
    }
   ],
   "source": [
    "# value of portfolio\n",
    "value_portfolio(a3,p3)"
   ]
  },
  {
   "cell_type": "markdown",
   "id": "1ee930db",
   "metadata": {},
   "source": [
    "### 4. Compute the determinant of a matrix"
   ]
  },
  {
   "cell_type": "code",
   "execution_count": 22,
   "id": "aaf42694",
   "metadata": {},
   "outputs": [
    {
     "name": "stdout",
     "output_type": "stream",
     "text": [
      "[[0 1]\n",
      " [2 3]]\n",
      "-2.0\n"
     ]
    }
   ],
   "source": [
    "# Of course, we can only compute the determinant of square matrices (from example 14)\n",
    "\n",
    "A = np.array([[0,1],[2,3]]) \n",
    "print(A)    \n",
    "\n",
    "print(np.linalg.det(A))  "
   ]
  },
  {
   "cell_type": "code",
   "execution_count": 23,
   "id": "49c918bf",
   "metadata": {},
   "outputs": [
    {
     "name": "stdout",
     "output_type": "stream",
     "text": [
      "[[1 1]\n",
      " [2 2]]\n",
      "0.0\n"
     ]
    }
   ],
   "source": [
    "B = np.array([[1,1],[2,2]]) \n",
    "print(B)    \n",
    "\n",
    "print(np.linalg.det(B))"
   ]
  },
  {
   "cell_type": "code",
   "execution_count": 24,
   "id": "3dfa1554",
   "metadata": {},
   "outputs": [
    {
     "name": "stdout",
     "output_type": "stream",
     "text": [
      "[[ 1  2 -1]\n",
      " [ 2  0  4]\n",
      " [-1  4  3]]\n",
      "-43.99999999999999\n"
     ]
    }
   ],
   "source": [
    "# higher dimension\n",
    "C = np.array([[1,2,-1],[2,0,4],[-1,4,3]]) \n",
    "print(C)    \n",
    "\n",
    "print(np.linalg.det(C))"
   ]
  },
  {
   "cell_type": "code",
   "execution_count": 25,
   "id": "b5208568",
   "metadata": {},
   "outputs": [
    {
     "name": "stdout",
     "output_type": "stream",
     "text": [
      "[[1 0 0]\n",
      " [0 2 0]\n",
      " [0 0 1]]\n",
      "2.0\n"
     ]
    }
   ],
   "source": [
    "# diagonal matrix\n",
    "D = np.array([[1,0,0],[0,2,0],[0,0,1]]) \n",
    "print(D)    \n",
    "\n",
    "print(np.linalg.det(D))"
   ]
  },
  {
   "cell_type": "code",
   "execution_count": 26,
   "id": "0f5211d5",
   "metadata": {},
   "outputs": [
    {
     "name": "stdout",
     "output_type": "stream",
     "text": [
      "[[4 2 2]\n",
      " [2 1 1]\n",
      " [3 0 5]]\n",
      "0.0\n"
     ]
    }
   ],
   "source": [
    "E = np.array([[4,2,2],[2,1,1],[3,0,5]]) \n",
    "print(E)    \n",
    "\n",
    "print(np.linalg.det(E))"
   ]
  },
  {
   "cell_type": "code",
   "execution_count": 27,
   "id": "2780316a",
   "metadata": {},
   "outputs": [
    {
     "name": "stdout",
     "output_type": "stream",
     "text": [
      "[[1 0 0]\n",
      " [1 1 0]\n",
      " [2 2 1]]\n",
      "1.0\n"
     ]
    }
   ],
   "source": [
    "# triangular matrix\n",
    "F = np.array([[1,0,0],[1,1,0],[2,2,1]]) \n",
    "print(F)    \n",
    "\n",
    "print(np.linalg.det(F))"
   ]
  },
  {
   "cell_type": "markdown",
   "id": "c49367ec",
   "metadata": {},
   "source": [
    "### 5. Compute the rank of a matrix"
   ]
  },
  {
   "cell_type": "code",
   "execution_count": 28,
   "id": "26057c9e",
   "metadata": {},
   "outputs": [
    {
     "name": "stdout",
     "output_type": "stream",
     "text": [
      "[[0 1]\n",
      " [2 3]]\n",
      "-2.0\n"
     ]
    }
   ],
   "source": [
    "print(A)\n",
    "print(np.linalg.det(A)) # the determinant is different from zero, it is a full rank matrix"
   ]
  },
  {
   "cell_type": "code",
   "execution_count": 29,
   "id": "24fd7936",
   "metadata": {},
   "outputs": [
    {
     "name": "stdout",
     "output_type": "stream",
     "text": [
      "2\n"
     ]
    }
   ],
   "source": [
    "# check the rank of matrix A\n",
    "print(np.linalg.matrix_rank(A))"
   ]
  },
  {
   "cell_type": "code",
   "execution_count": 30,
   "id": "62e8e82f",
   "metadata": {},
   "outputs": [
    {
     "name": "stdout",
     "output_type": "stream",
     "text": [
      "[[ 1  2 -1]\n",
      " [ 2  0  4]\n",
      " [-1  4  3]]\n",
      "-43.99999999999999\n"
     ]
    }
   ],
   "source": [
    "print(C)\n",
    "print(np.linalg.det(C)) # the determinant is different from zero, it is a full rank matrix"
   ]
  },
  {
   "cell_type": "code",
   "execution_count": 31,
   "id": "473e3254",
   "metadata": {},
   "outputs": [
    {
     "name": "stdout",
     "output_type": "stream",
     "text": [
      "3\n"
     ]
    }
   ],
   "source": [
    "# check the rank of matrix C\n",
    "print(np.linalg.matrix_rank(C))"
   ]
  },
  {
   "cell_type": "code",
   "execution_count": 32,
   "id": "778edb41",
   "metadata": {},
   "outputs": [
    {
     "name": "stdout",
     "output_type": "stream",
     "text": [
      "[[4 2 2]\n",
      " [2 1 1]\n",
      " [3 0 5]]\n",
      "0.0\n"
     ]
    }
   ],
   "source": [
    "print(E)\n",
    "print(np.linalg.det(E)) # the determinant is equal to zero, E is not a full rank matrix"
   ]
  },
  {
   "cell_type": "code",
   "execution_count": 32,
   "id": "c7316b71",
   "metadata": {},
   "outputs": [
    {
     "name": "stdout",
     "output_type": "stream",
     "text": [
      "2\n"
     ]
    }
   ],
   "source": [
    "# check the rank of matrix E\n",
    "print(np.linalg.matrix_rank(E))"
   ]
  },
  {
   "cell_type": "code",
   "execution_count": 33,
   "id": "f3bf99a0",
   "metadata": {},
   "outputs": [
    {
     "name": "stdout",
     "output_type": "stream",
     "text": [
      "[[2 4 0]\n",
      " [3 4 2]]\n"
     ]
    }
   ],
   "source": [
    "# create a not square matrix\n",
    "S = np.array([[2,4,0],[3,4,2]])\n",
    "print(S)"
   ]
  },
  {
   "cell_type": "code",
   "execution_count": 34,
   "id": "1557c79e",
   "metadata": {},
   "outputs": [
    {
     "name": "stdout",
     "output_type": "stream",
     "text": [
      "2\n"
     ]
    }
   ],
   "source": [
    "# compute the rank of S\n",
    "print(np.linalg.matrix_rank(S))"
   ]
  },
  {
   "cell_type": "markdown",
   "id": "f0b8a435",
   "metadata": {},
   "source": [
    "### 6. Compute the inverse of a matrix"
   ]
  },
  {
   "cell_type": "code",
   "execution_count": 35,
   "id": "c134de22",
   "metadata": {},
   "outputs": [
    {
     "name": "stdout",
     "output_type": "stream",
     "text": [
      "[[ 1  2 -1]\n",
      " [ 2  0  4]\n",
      " [-1  4  3]]\n",
      "-43.99999999999999\n"
     ]
    }
   ],
   "source": [
    "print(C)\n",
    "print(np.linalg.det(C)) # the determinant is different from zero, is a full rank matrix, we can compute the inverse"
   ]
  },
  {
   "cell_type": "code",
   "execution_count": 36,
   "id": "96ab80a3",
   "metadata": {},
   "outputs": [
    {
     "name": "stdout",
     "output_type": "stream",
     "text": [
      "[[ 0.36363636  0.22727273 -0.18181818]\n",
      " [ 0.22727273 -0.04545455  0.13636364]\n",
      " [-0.18181818  0.13636364  0.09090909]]\n"
     ]
    }
   ],
   "source": [
    "print(np.linalg.inv(C))"
   ]
  },
  {
   "cell_type": "code",
   "execution_count": 37,
   "id": "46408f6c",
   "metadata": {},
   "outputs": [
    {
     "name": "stdout",
     "output_type": "stream",
     "text": [
      "[[4 2 2]\n",
      " [2 1 1]\n",
      " [3 0 5]]\n",
      "0.0\n"
     ]
    }
   ],
   "source": [
    "print(E)\n",
    "print(np.linalg.det(E)) # the determinant is equal to zero, E is not a full rank matrix. We cannot compute the inverse"
   ]
  },
  {
   "cell_type": "code",
   "execution_count": 38,
   "id": "c5cb0c02",
   "metadata": {},
   "outputs": [
    {
     "name": "stdout",
     "output_type": "stream",
     "text": [
      "We cannot compute the inverse\n"
     ]
    }
   ],
   "source": [
    "try:\n",
    "    print(np.linalg.inv(E))\n",
    "except:\n",
    "    print(\"We cannot compute the inverse\")"
   ]
  },
  {
   "cell_type": "code",
   "execution_count": 40,
   "id": "4ec80cc7",
   "metadata": {},
   "outputs": [],
   "source": [
    "# create a function\n",
    "def inverse(A):\n",
    "    num_rows = A.shape[0]\n",
    "    num_cols = A.shape[1]\n",
    "    if num_rows == num_cols:\n",
    "        det_A = np.linalg.det(A)\n",
    "        if det_A != 0:\n",
    "            return np.linalg.inv(A)\n",
    "        else:\n",
    "            return \"The matrix is a square matrix but the determinant is equal to zero. The inverse doesn't exist\"\n",
    "    else:\n",
    "        return \"The matrix is not a square matrix, then it is impossible to compute the inverse\""
   ]
  },
  {
   "cell_type": "code",
   "execution_count": 39,
   "id": "88625fb7",
   "metadata": {},
   "outputs": [
    {
     "name": "stdout",
     "output_type": "stream",
     "text": [
      "[[ 1  2 -1]\n",
      " [ 2  0  4]\n",
      " [-1  4  3]]\n"
     ]
    },
    {
     "ename": "NameError",
     "evalue": "name 'inverse' is not defined",
     "output_type": "error",
     "traceback": [
      "\u001b[1;31m---------------------------------------------------------------------------\u001b[0m",
      "\u001b[1;31mNameError\u001b[0m                                 Traceback (most recent call last)",
      "Cell \u001b[1;32mIn[39], line 3\u001b[0m\n\u001b[0;32m      1\u001b[0m \u001b[38;5;66;03m# try the function with the matrix C\u001b[39;00m\n\u001b[0;32m      2\u001b[0m \u001b[38;5;28mprint\u001b[39m(C)\n\u001b[1;32m----> 3\u001b[0m inverse(C)\n",
      "\u001b[1;31mNameError\u001b[0m: name 'inverse' is not defined"
     ]
    }
   ],
   "source": [
    "# try the function with the matrix C\n",
    "print(C)\n",
    "inverse(C)"
   ]
  },
  {
   "cell_type": "code",
   "execution_count": 42,
   "id": "8776efc0",
   "metadata": {},
   "outputs": [
    {
     "name": "stdout",
     "output_type": "stream",
     "text": [
      "[[4 2 2]\n",
      " [2 1 1]\n",
      " [3 0 5]]\n"
     ]
    },
    {
     "data": {
      "text/plain": [
       "\"The matrix is a square matrix but the determinant is equal to zero. The inverse doesn't exist\""
      ]
     },
     "execution_count": 42,
     "metadata": {},
     "output_type": "execute_result"
    }
   ],
   "source": [
    "# try the function with the matrix E\n",
    "print(E)\n",
    "inverse(E)"
   ]
  },
  {
   "cell_type": "code",
   "execution_count": 43,
   "id": "01e0d0f8",
   "metadata": {},
   "outputs": [
    {
     "name": "stdout",
     "output_type": "stream",
     "text": [
      "[[2 4 0]\n",
      " [3 4 2]]\n"
     ]
    },
    {
     "data": {
      "text/plain": [
       "'The matrix is not a square matrix, then it is impossible to compute the inverse'"
      ]
     },
     "execution_count": 43,
     "metadata": {},
     "output_type": "execute_result"
    }
   ],
   "source": [
    "# try the function with the matrix S\n",
    "print(S)\n",
    "inverse(S)"
   ]
  },
  {
   "cell_type": "code",
   "execution_count": 44,
   "id": "c37c9300",
   "metadata": {},
   "outputs": [
    {
     "name": "stdout",
     "output_type": "stream",
     "text": [
      "[[2 4 6]\n",
      " [1 0 3]\n",
      " [0 1 1]]\n",
      "[[1. 0. 0.]\n",
      " [0. 1. 0.]\n",
      " [0. 0. 1.]]\n",
      "[[1. 0. 0.]\n",
      " [0. 1. 0.]\n",
      " [0. 0. 1.]]\n"
     ]
    }
   ],
   "source": [
    "# Let's verify that A*A^(-1)=A^(-1)*A=I\n",
    "\n",
    "A = np.array([[2,4,6],[1,0,3],[0,1,1]])\n",
    "print(A) \n",
    "\n",
    "Ainv = inverse(A)\n",
    "print(A@Ainv)\n",
    "print(Ainv@A)"
   ]
  },
  {
   "cell_type": "code",
   "execution_count": null,
   "id": "4b2e4267",
   "metadata": {},
   "outputs": [],
   "source": []
  }
 ],
 "metadata": {
  "kernelspec": {
   "display_name": "Python 3 (ipykernel)",
   "language": "python",
   "name": "python3"
  },
  "language_info": {
   "codemirror_mode": {
    "name": "ipython",
    "version": 3
   },
   "file_extension": ".py",
   "mimetype": "text/x-python",
   "name": "python",
   "nbconvert_exporter": "python",
   "pygments_lexer": "ipython3",
   "version": "3.11.7"
  }
 },
 "nbformat": 4,
 "nbformat_minor": 5
}
