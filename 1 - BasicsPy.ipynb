{
 "cells": [
  {
   "cell_type": "markdown",
   "id": "26ba4f29-a6fc-4fd3-a18f-1fba0089e75b",
   "metadata": {},
   "source": [
    "# Introduction to Python Variables and Basic Functions\n",
    "\n",
    "In this notebook we will explore basic Python concepts like variables, input/output, and string manipulation. \n"
   ]
  },
  {
   "cell_type": "code",
   "execution_count": 1,
   "id": "aacedc96-8564-417f-beda-68d425178c95",
   "metadata": {},
   "outputs": [
    {
     "name": "stdout",
     "output_type": "stream",
     "text": [
      "Hello world\n"
     ]
    }
   ],
   "source": [
    "# The print() function displays the message inside the parentheses to the console.\n",
    "print('Hello world') "
   ]
  },
  {
   "cell_type": "markdown",
   "id": "e450e6c9-f1c7-4138-b60b-24a55526e8a1",
   "metadata": {},
   "source": [
    "### Variable Assignment, Int Variables and Printing\n",
    "\n",
    "A **variable** is a named storage location in memory where you can store different types of data, such as numbers, text, or boolean values. \n",
    "\n",
    "In Python:\n",
    "- Variables are dynamically typed, meaning you don't need to declare the type before using them.\n",
    "- You can change the value of a variable by reassigning it."
   ]
  },
  {
   "cell_type": "code",
   "execution_count": 2,
   "id": "c8a0ac14-6681-413b-bf43-1f6b42a93180",
   "metadata": {},
   "outputs": [
    {
     "name": "stdout",
     "output_type": "stream",
     "text": [
      "30\n",
      "temperature\n"
     ]
    }
   ],
   "source": [
    "temperature = 28  # Assigning an integer number (we're declaring an int variable)\n",
    "temperature = 30   # Updating the value of the variable\n",
    "print(temperature)  # This will print the current value of the variable (30)\n",
    "\n",
    "# This prints the word 'temperature' itself as a string, not the value of the variable\n",
    "print(\"temperature\")\n"
   ]
  },
  {
   "cell_type": "markdown",
   "id": "7b0591c0-fde0-4e68-995c-31600bb4470f",
   "metadata": {},
   "source": [
    "### Floating-Point Variables\n",
    "\n",
    "A **floating-point number** (or float) is a number that contains decimal points. This allows you to store more precise values, like measurements or currency.\n",
    "\n",
    "Floats are automatically recognized in Python, and you don't need to specify the type.# Assigning a floating-point number to a variable"
   ]
  },
  {
   "cell_type": "code",
   "execution_count": 3,
   "id": "24407375-6746-40bf-80aa-002a98f7e889",
   "metadata": {},
   "outputs": [
    {
     "name": "stdout",
     "output_type": "stream",
     "text": [
      "19.95\n"
     ]
    }
   ],
   "source": [
    "lower_temperature = 19.95  # Assigning a float value\n",
    "print(lower_temperature)  # Printing the value of the floating point variable"
   ]
  },
  {
   "cell_type": "markdown",
   "id": "802cdb92-e370-4a7a-8cec-e71134f6c416",
   "metadata": {},
   "source": [
    "### String Variables\n",
    "\n",
    "A **string** is a sequence of characters used to represent text. In Python, strings are enclosed in either single quotes (`' '`) or double quotes (`\" \"`).# Assigning a string to a variable"
   ]
  },
  {
   "cell_type": "code",
   "execution_count": 4,
   "id": "d5341562-b78d-45db-b140-13cc5c65230a",
   "metadata": {},
   "outputs": [
    {
     "name": "stdout",
     "output_type": "stream",
     "text": [
      "Luiss\n"
     ]
    }
   ],
   "source": [
    "university = \"Luiss\"  # Assigning a string value to the variable\n",
    "print(university)  # Printing the value stored in the variable \n"
   ]
  },
  {
   "cell_type": "markdown",
   "id": "11c81427-1154-4273-aeed-249d52c91852",
   "metadata": {},
   "source": [
    "### Boolean Variables\n",
    "\n",
    "A **boolean** is a data type that can hold only one of two values: `True` or `False`. Booleans are often used to represent the outcome of a comparison or the state of a condition.\n",
    "\n",
    "Booleans are useful in decision-making processes and conditions in your code.\n"
   ]
  },
  {
   "cell_type": "code",
   "execution_count": 29,
   "id": "9610d81f-5919-4aaa-b88e-ce1eac738116",
   "metadata": {},
   "outputs": [
    {
     "name": "stdout",
     "output_type": "stream",
     "text": [
      "False\n"
     ]
    }
   ],
   "source": [
    "is_online = False  # Assigning a boolean value (True or False)\n",
    "print(is_online)  # Printing the boolean value (in this case, False)\n"
   ]
  },
  {
   "cell_type": "markdown",
   "id": "ac0c6a36-9761-4cbd-b733-8fc1eb8111f3",
   "metadata": {},
   "source": [
    "### Getting Input from the User\n",
    "\n",
    "The **`input()` function** is used to prompt the user to enter some data. The data entered by the user is always returned as a string, even if they enter a number.\n",
    "\n",
    "In the next cell:\n",
    "- We prompt the user to enter their name using `input()`.\n",
    "- The entered value is stored in the variable `name`.\n",
    "- We then print the entered name using `print()`.\n",
    "- Finally, we print the fixed string `\"Michela\"` to show how we can print predefined text, unrelated to the user’s input.\n"
   ]
  },
  {
   "cell_type": "code",
   "execution_count": 7,
   "id": "2205d318-8d48-4f84-86e9-f54cc3ce95af",
   "metadata": {},
   "outputs": [
    {
     "name": "stdin",
     "output_type": "stream",
     "text": [
      "What is your name?  Marco\n"
     ]
    },
    {
     "name": "stdout",
     "output_type": "stream",
     "text": [
      "Marco\n",
      "Luke\n"
     ]
    }
   ],
   "source": [
    "name = input(\"What is your name? \")  # The input function displays a prompt and waits for the user to input a value\n",
    "print(name)  # Printing the name entered by the user\n",
    "\n",
    "# Printing a fixed string\n",
    "print(\"Luke\")  # This will always print the string \"Luke\" regardless of what the user enters\n"
   ]
  },
  {
   "cell_type": "raw",
   "id": "3e3bb9fc-7692-480d-9835-7d4f7a4a18e8",
   "metadata": {},
   "source": []
  },
  {
   "attachments": {},
   "cell_type": "markdown",
   "id": "5f8f1ee3-b4e9-490b-bc8a-ef031c92e578",
   "metadata": {},
   "source": [
    "### String Concatenation\n",
    "\n",
    "**String concatenation** is the process of combining two or more strings into one. In Python, this is done using the `+` operator.\n",
    "\n",
    "This code allows us to create a personalized greeting for the user.\n",
    "\n",
    "\n",
    "# Asking for the user's name again and greeting them using string concatenation\n",
    "\n",
    "name = input(\"What is your name? \")  # Asking for user input\n",
    "print(\"Hello \" + name)  # Concatenating the greeting with the user's input\n"
   ]
  },
  {
   "cell_type": "markdown",
   "id": "292b06b6-84a1-4d0a-b11a-7753b17f4489",
   "metadata": {},
   "source": [
    "### Mathematical Operations\n",
    "\n",
    "Python supports various mathematical operations. Some of the common ones are:\n",
    "- Addition (`+`)\n",
    "- Subtraction (`-`)\n",
    "- Multiplication (`*`)\n",
    "- Division (`/`)\n",
    "\n",
    "There are also more advanced operators:\n",
    "- Modulus (`%`): Gives the remainder of a division.\n",
    "- Exponentiation (`**`): Raises one number to the power of another.\n",
    "\n",
    "Let's see some examples of these operations.\n"
   ]
  },
  {
   "cell_type": "code",
   "execution_count": 48,
   "id": "b595cdcd-c723-4248-8bbd-763b656bda0e",
   "metadata": {},
   "outputs": [
    {
     "name": "stdout",
     "output_type": "stream",
     "text": [
      "10\n",
      "1\n",
      "16\n",
      "1.3333333333333333\n",
      "1\n",
      "1\n",
      "1000\n"
     ]
    }
   ],
   "source": [
    "# Basic mathematical operations\n",
    "print(3 + 7)  # Addition: 3 + 7 = 10\n",
    "print(10 - 9)  # Subtraction: 10 - 9 = 1\n",
    "print(8 * 2)  # Multiplication: 8 * 2 = 16\n",
    "\n",
    "# Division (returns a float)\n",
    "print(4 / 3)  # Float result of division: 4 / 3\n",
    "\n",
    "# Integer division using floor division\n",
    "print(4 // 3)  # Integer division (discarding remainder): 4 // 3\n",
    "\n",
    "# Modulus (remainder of division)\n",
    "print(10 % 3)  # Modulus: 10 % 3 gives the remainder, which is 1\n",
    "\n",
    "# Exponentiation (power)\n",
    "print(10 ** 3)  # Exponentiation: 10 raised to the power of 3 = 1000\n"
   ]
  },
  {
   "cell_type": "markdown",
   "id": "eb8c0a22-2d7b-429a-8093-10683db9a6a7",
   "metadata": {},
   "source": [
    "### Augmented Assignment Operators\n",
    "\n",
    "Augmented assignment operators allow you to perform a mathematical operation and assignment in one step. Common augmented assignment operators include:\n",
    "- `+=`: Adds and assigns the result.\n",
    "- `-=`: Subtracts and assigns the result.\n",
    "- `*=`: Multiplies and assigns the result.\n",
    "- `/=`: Divides and assigns the result.\n",
    "\n",
    "In the next cell, we will demonstrate the `+=` operator, which adds a value to the variable and updates it in one step.\n"
   ]
  },
  {
   "cell_type": "code",
   "execution_count": 8,
   "id": "5793a49b-723c-4a27-968b-3c47f2790e4d",
   "metadata": {},
   "outputs": [
    {
     "name": "stdout",
     "output_type": "stream",
     "text": [
      "13\n"
     ]
    }
   ],
   "source": [
    "# Augmented assignment operation\n",
    "\n",
    "X = 10  # Initial value of X\n",
    "X += 3  # Equivalent to X = X + 3, this adds 3 to X\n",
    "print(X)  # This will print 13, the new value of X\n"
   ]
  },
  {
   "cell_type": "markdown",
   "id": "50a7af0f-1b43-46d0-925e-30bd17f3fd4f",
   "metadata": {},
   "source": [
    "### Type Conversion\n",
    "\n",
    "In Python, it is possible to convert input from a string to an integer using the `int()` function.\n",
    "\n",
    "This code prompts the user to enter their birth year, converts the input (a string) into an integer, and calculates their age by subtracting the birth year from 2024. The result is then printed to display the user's age."
   ]
  },
  {
   "cell_type": "code",
   "execution_count": 10,
   "id": "3b728028-53aa-443b-9f38-69df2f8baa80",
   "metadata": {},
   "outputs": [
    {
     "name": "stdin",
     "output_type": "stream",
     "text": [
      "Enter your birth year:  11021976\n"
     ]
    },
    {
     "name": "stdout",
     "output_type": "stream",
     "text": [
      "-11019952\n"
     ]
    }
   ],
   "source": [
    "## # Getting the birth year from the user as input (which will be a string)\n",
    "birth_year = input(\"Enter your birth year: \")\n",
    "\n",
    "# Converting the birth year to an integer and calculating age\n",
    "age = 2024 - int(birth_year)  # Subtracting the birth year from the current year (2024)\n",
    "print(age)  # Printing the calculated age\n"
   ]
  },
  {
   "cell_type": "code",
   "execution_count": null,
   "id": "5381e26c-b466-42fd-8570-9e6e7639be16",
   "metadata": {},
   "outputs": [],
   "source": []
  },
  {
   "cell_type": "markdown",
   "id": "d7fca71d-84c8-4657-a2af-17b3274bf0c4",
   "metadata": {},
   "source": [
    "### Comparison Operators in Python\n",
    "\n",
    "Python provides comparison operators to compare values. These operators can return boolean values (`True` or `False`) based on the result of the comparison.\n",
    "\n",
    "- **Greater than (`>`)**: Returns `True` if the left-hand operand is greater than the right-hand operand.\n",
    "- **Less than (`<`)**: Returns `True` if the left-hand operand is less than the right-hand operand.\n",
    "- **Equality (`==`)**: Returns `True` if both operands are equal.\n",
    "- **Inequality (`!=`)**: Returns `True` if both operands are not equal.\n"
   ]
  },
  {
   "cell_type": "code",
   "execution_count": 42,
   "id": "c1786710-de4d-4fda-9db2-117c22c8f2db",
   "metadata": {},
   "outputs": [
    {
     "name": "stdout",
     "output_type": "stream",
     "text": [
      "False\n",
      "True\n",
      "False\n",
      "True\n"
     ]
    }
   ],
   "source": [
    "# Greater than comparison\n",
    "X = 1 > 2  # This will evaluate to False because 1 is not greater than 2\n",
    "print(X)\n",
    "\n",
    "# Less than comparison\n",
    "Y = 3 < 8  # This will evaluate to True because 3 is less than 8\n",
    "print(Y)\n",
    "\n",
    "# Equality comparison\n",
    "Z = 5 == 6  # This will evaluate to False because 5 is not equal to 6\n",
    "print(Z)\n",
    "\n",
    "# Inequality comparison\n",
    "H = 7 != 9  # This will evaluate to True because 7 is not equal to 9\n",
    "print(H)"
   ]
  },
  {
   "cell_type": "markdown",
   "id": "85df188e-09d3-49cd-94e6-f6efe3fe6317",
   "metadata": {},
   "source": [
    "### Working with Lists in Python\n",
    "\n",
    "A **list** is a collection of items, which can be of different types. Lists are ordered and mutable, meaning the elements can be changed after the list is created.\n",
    "\n"
   ]
  },
  {
   "cell_type": "code",
   "execution_count": 69,
   "id": "908575b3-8527-40ad-974b-9927ef212254",
   "metadata": {},
   "outputs": [
    {
     "name": "stdout",
     "output_type": "stream",
     "text": [
      "['Anna', 'Chiara', 'Elena']\n"
     ]
    }
   ],
   "source": [
    "# Creating a list of names\n",
    "names = [\"Anna\", \"Chiara\", \"Elena\"]  # Defining a list of strings\n",
    "print(names)  # Printing the entire list"
   ]
  },
  {
   "cell_type": "code",
   "execution_count": 1,
   "id": "a3829937-a9f3-42d8-9699-1e78125bfaed",
   "metadata": {},
   "outputs": [
    {
     "name": "stdout",
     "output_type": "stream",
     "text": [
      "[5, 12, 8, 3, 25, 7]\n",
      "6\n"
     ]
    }
   ],
   "source": [
    "# Example of a list of numbers\n",
    "numbers = [5, 12, 8, 3, 25, 7]\n",
    "\n",
    "# Printing the list\n",
    "print(numbers)\n",
    "\n",
    "print(len(numbers)) # len() is a function that returns the lenght of the list"
   ]
  },
  {
   "cell_type": "markdown",
   "id": "5e7cd505-7132-4572-a592-91fdcee97339",
   "metadata": {},
   "source": [
    "# Numpy\n",
    "NumPy (Numerical Python) is a library for handling arrays and performing mathematical and logical operations on them efficiently. It's widely used for scientific computing and is the foundation for many other Python libraries."
   ]
  },
  {
   "cell_type": "markdown",
   "id": "5f482574-fd68-4b69-aaff-f8f5f452c582",
   "metadata": {},
   "source": [
    "# Importing numpy\n",
    "To use Numpy in your code, you typically import it as follows:"
   ]
  },
  {
   "cell_type": "code",
   "execution_count": 6,
   "id": "f91b7a12-7ca6-4b86-b89f-7c725e880fa4",
   "metadata": {},
   "outputs": [],
   "source": [
    "import numpy as np #np is a shorhand\n"
   ]
  },
  {
   "cell_type": "code",
   "execution_count": 10,
   "id": "55b6314d-c3a8-4b65-a5ab-036a1724ac8f",
   "metadata": {},
   "outputs": [
    {
     "name": "stdout",
     "output_type": "stream",
     "text": [
      "[1 2 3 4 5]\n",
      "[[1 2 3]\n",
      " [4 5 6]]\n"
     ]
    }
   ],
   "source": [
    "arr=np.array([1,2,3,4,5]) #create an 1D array\n",
    "\n",
    "matrix=np.array([[1,2,3],[4,5,6]]) #create a 2D array (Matrix)\n",
    "\n",
    "print(arr)\n",
    "print(matrix)"
   ]
  },
  {
   "cell_type": "markdown",
   "id": "21d18da7-ecf4-46a5-986a-1fcb45193574",
   "metadata": {},
   "source": [
    "### Array operations"
   ]
  },
  {
   "cell_type": "code",
   "execution_count": 13,
   "id": "10ee1ffb-2c48-4b9b-8773-bebebbdd72ed",
   "metadata": {},
   "outputs": [
    {
     "name": "stdout",
     "output_type": "stream",
     "text": [
      "sum [ 6  8 10]\n",
      "product [ 5 12 21]\n"
     ]
    }
   ],
   "source": [
    "a=np.array([1,2,3])\n",
    "b=np.array([5,6,7])\n",
    "\n",
    "sum_arr=a+b #sum of elemets\n",
    "\n",
    "prod_arr=a*b #product of the elements\n",
    "\n",
    "print(\"sum\", sum_arr)\n",
    "print(\"product\", prod_arr)"
   ]
  },
  {
   "cell_type": "code",
   "execution_count": null,
   "id": "31733c09-22d0-41fc-bd49-571325996efe",
   "metadata": {},
   "outputs": [],
   "source": []
  }
 ],
 "metadata": {
  "kernelspec": {
   "display_name": "Python 3 (ipykernel)",
   "language": "python",
   "name": "python3"
  },
  "language_info": {
   "codemirror_mode": {
    "name": "ipython",
    "version": 3
   },
   "file_extension": ".py",
   "mimetype": "text/x-python",
   "name": "python",
   "nbconvert_exporter": "python",
   "pygments_lexer": "ipython3",
   "version": "3.11.7"
  }
 },
 "nbformat": 4,
 "nbformat_minor": 5
}
