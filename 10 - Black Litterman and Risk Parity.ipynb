{
 "cells": [
  {
   "cell_type": "markdown",
   "id": "8298d275-e9f7-477e-8434-16a321a92288",
   "metadata": {},
   "source": [
    "# Class 10"
   ]
  },
  {
   "cell_type": "markdown",
   "id": "87ea68e6-67f3-409d-9e3a-c614bd7609fa",
   "metadata": {},
   "source": [
    "###### 1. Data import and Data preparation\n",
    "###### 2. Compute the Equilibrium Expected returns and Covariance matrix\n",
    "###### 3. Compute the Prior distribution - Views\n",
    "###### 4. Construction of the Posterior distribution\n",
    "###### 5. Portfolio optimization\n",
    "###### 6. Global Minimum Variance portfolio\n",
    "###### 7. Risk Parity portfolio"
   ]
  },
  {
   "cell_type": "code",
   "execution_count": 1,
   "id": "84d12b57-5dbc-4ec9-b7a8-37627de629f6",
   "metadata": {},
   "outputs": [],
   "source": [
    "import numpy as np\n",
    "import pandas as pd\n",
    "import yfinance as yf     # To install it: \"pip install yfinance --upgrade --no-cache-dir\"\n",
    "from datetime import date\n",
    "from scipy.optimize import minimize\n",
    "import matplotlib.pyplot as plt\n",
    "from matplotlib import cm\n",
    "from pylab import rcParams "
   ]
  },
  {
   "cell_type": "markdown",
   "id": "52217503-c50c-4b03-a0f3-b76bcfe4030d",
   "metadata": {},
   "source": [
    "##### 1. Data import and Data preparation"
   ]
  },
  {
   "cell_type": "code",
   "execution_count": 2,
   "id": "9c7e8a21-8a79-4043-ab18-c6350a4ed86a",
   "metadata": {},
   "outputs": [
    {
     "name": "stderr",
     "output_type": "stream",
     "text": [
      "[*********************100%***********************]  6 of 6 completed\n"
     ]
    }
   ],
   "source": [
    "# Settings for data download\n",
    "\n",
    "start_date = \"2019-01-01\"     # Start date for the download \n",
    "end_date = date.today().strftime(\"%Y-%m-%d\")\n",
    "assetList =[\"AAPL\",\"AMZN\",\"GOOGL\", \"TSLA\", \"NVDA\",\"JPM\"] \n",
    "n = len(assetList)\n",
    "\n",
    "data_ = yf.download(assetList, start=start_date, end=end_date)#\n",
    "data = data_[\"Close\"]  "
   ]
  },
  {
   "cell_type": "code",
   "execution_count": 3,
   "id": "616a96b4-3642-4f8b-bd02-5609609e1847",
   "metadata": {},
   "outputs": [],
   "source": [
    "# Create the returns dataframe\n",
    "ret = (data-data.shift(1))/data.shift(1) # Create returns dataframe"
   ]
  },
  {
   "cell_type": "code",
   "execution_count": 4,
   "id": "a45a112a-33bd-468f-acd0-12e16697110a",
   "metadata": {},
   "outputs": [
    {
     "data": {
      "text/html": [
       "<div>\n",
       "<style scoped>\n",
       "    .dataframe tbody tr th:only-of-type {\n",
       "        vertical-align: middle;\n",
       "    }\n",
       "\n",
       "    .dataframe tbody tr th {\n",
       "        vertical-align: top;\n",
       "    }\n",
       "\n",
       "    .dataframe thead th {\n",
       "        text-align: right;\n",
       "    }\n",
       "</style>\n",
       "<table border=\"1\" class=\"dataframe\">\n",
       "  <thead>\n",
       "    <tr style=\"text-align: right;\">\n",
       "      <th>Ticker</th>\n",
       "      <th>AAPL</th>\n",
       "      <th>AMZN</th>\n",
       "      <th>GOOGL</th>\n",
       "      <th>JPM</th>\n",
       "      <th>NVDA</th>\n",
       "      <th>TSLA</th>\n",
       "    </tr>\n",
       "    <tr>\n",
       "      <th>Date</th>\n",
       "      <th></th>\n",
       "      <th></th>\n",
       "      <th></th>\n",
       "      <th></th>\n",
       "      <th></th>\n",
       "      <th></th>\n",
       "    </tr>\n",
       "  </thead>\n",
       "  <tbody>\n",
       "    <tr>\n",
       "      <th>2019-01-02 00:00:00+00:00</th>\n",
       "      <td>NaN</td>\n",
       "      <td>NaN</td>\n",
       "      <td>NaN</td>\n",
       "      <td>NaN</td>\n",
       "      <td>NaN</td>\n",
       "      <td>NaN</td>\n",
       "    </tr>\n",
       "    <tr>\n",
       "      <th>2019-01-03 00:00:00+00:00</th>\n",
       "      <td>-0.099607</td>\n",
       "      <td>-0.025241</td>\n",
       "      <td>-0.027696</td>\n",
       "      <td>-0.022153</td>\n",
       "      <td>-0.060417</td>\n",
       "      <td>-0.031472</td>\n",
       "    </tr>\n",
       "    <tr>\n",
       "      <th>2019-01-04 00:00:00+00:00</th>\n",
       "      <td>0.042689</td>\n",
       "      <td>0.050064</td>\n",
       "      <td>0.051294</td>\n",
       "      <td>0.036865</td>\n",
       "      <td>0.064068</td>\n",
       "      <td>0.057697</td>\n",
       "    </tr>\n",
       "    <tr>\n",
       "      <th>2019-01-07 00:00:00+00:00</th>\n",
       "      <td>-0.002226</td>\n",
       "      <td>0.034353</td>\n",
       "      <td>-0.001994</td>\n",
       "      <td>0.000695</td>\n",
       "      <td>0.052941</td>\n",
       "      <td>0.054361</td>\n",
       "    </tr>\n",
       "    <tr>\n",
       "      <th>2019-01-08 00:00:00+00:00</th>\n",
       "      <td>0.019063</td>\n",
       "      <td>0.016612</td>\n",
       "      <td>0.008783</td>\n",
       "      <td>-0.001886</td>\n",
       "      <td>-0.024895</td>\n",
       "      <td>0.001164</td>\n",
       "    </tr>\n",
       "  </tbody>\n",
       "</table>\n",
       "</div>"
      ],
      "text/plain": [
       "Ticker                         AAPL      AMZN     GOOGL       JPM      NVDA  \\\n",
       "Date                                                                          \n",
       "2019-01-02 00:00:00+00:00       NaN       NaN       NaN       NaN       NaN   \n",
       "2019-01-03 00:00:00+00:00 -0.099607 -0.025241 -0.027696 -0.022153 -0.060417   \n",
       "2019-01-04 00:00:00+00:00  0.042689  0.050064  0.051294  0.036865  0.064068   \n",
       "2019-01-07 00:00:00+00:00 -0.002226  0.034353 -0.001994  0.000695  0.052941   \n",
       "2019-01-08 00:00:00+00:00  0.019063  0.016612  0.008783 -0.001886 -0.024895   \n",
       "\n",
       "Ticker                         TSLA  \n",
       "Date                                 \n",
       "2019-01-02 00:00:00+00:00       NaN  \n",
       "2019-01-03 00:00:00+00:00 -0.031472  \n",
       "2019-01-04 00:00:00+00:00  0.057697  \n",
       "2019-01-07 00:00:00+00:00  0.054361  \n",
       "2019-01-08 00:00:00+00:00  0.001164  "
      ]
     },
     "execution_count": 4,
     "metadata": {},
     "output_type": "execute_result"
    }
   ],
   "source": [
    "ret.head()"
   ]
  },
  {
   "cell_type": "markdown",
   "id": "3bf269c6-ec12-4fe3-a76e-c3306f0766bf",
   "metadata": {},
   "source": [
    "##### 2. Compute the Equilibrium Expected returns and Covariance matrix"
   ]
  },
  {
   "cell_type": "code",
   "execution_count": 5,
   "id": "e5c9614f-4bf3-4332-9e17-fdd1995576c0",
   "metadata": {},
   "outputs": [],
   "source": [
    "# Compute (annualized) sample mean and sample covariance\n",
    "\n",
    "muBarData = ret.mean()*252\n",
    "SigmaBarData = ret.cov()*252 \n",
    "\n",
    "# Convert from Pandas DataFrame to Numpy arrays using to_numpy()\n",
    "muBar = muBarData.to_numpy()\n",
    "# Define muBar as a column vector\n",
    "muBar.shape = (n,1)     \n",
    "\n",
    "SigmaBar = SigmaBarData.to_numpy()"
   ]
  },
  {
   "cell_type": "code",
   "execution_count": 6,
   "id": "489a0ff6-f4e4-483b-8e43-5acd74372dbd",
   "metadata": {},
   "outputs": [
    {
     "name": "stdout",
     "output_type": "stream",
     "text": [
      "The updated market weights are:\n",
      "AAPL: 26.03%\n",
      "AMZN: 16.62%\n",
      "GOOGL: 16.65%\n",
      "TSLA: 7.85%\n",
      "NVDA: 27.47%\n",
      "JPM: 5.38%\n"
     ]
    }
   ],
   "source": [
    "# Define constants for units of measurement\n",
    "T = 10**12  # Trillions (1 trillion = 1,000 billion)\n",
    "B = 10**9   # Billions\n",
    "\n",
    "# Updated market capitalizations (in trillions and billions)\n",
    "# These values are based on the most recent market data\n",
    "mktCap = np.array([\n",
    "    3.441 * T,    # Apple (AAPL)\n",
    "    2.197 * T,    # Amazon (AMZN)\n",
    "    2.201 * T,    # Alphabet (GOOGL)\n",
    "    1.038 * T,    # Tesla (TSLA)\n",
    "    3.631 * T,    # NVIDIA (NVDA)\n",
    "    711.156 * B   # JPMorgan Chase (JPM)\n",
    "])\n",
    "\n",
    "# Calculate the market weights for each asset\n",
    "# Market weight = Individual market cap / Total market cap\n",
    "mktW = mktCap / np.sum(mktCap)\n",
    "\n",
    "# Print the market weights as percentages\n",
    "print(\"The updated market weights are:\")\n",
    "for asset, weight in zip(assetList, mktW):\n",
    "    print(f\"{asset}: {weight:.2%}\")"
   ]
  },
  {
   "cell_type": "code",
   "execution_count": 7,
   "id": "b0a09ecc-2276-40d2-b3ee-21a98ae08d96",
   "metadata": {},
   "outputs": [
    {
     "name": "stdout",
     "output_type": "stream",
     "text": [
      "Expected return of the market portfolio (mktMu): 0.08\n",
      "Variance of the market portfolio: 0.09673562046801176\n",
      "Estimated coefficient of risk aversion (lambda): 0.8269962978782377\n"
     ]
    }
   ],
   "source": [
    "# Calculate the expected return of the market portfolio\n",
    "# The market portfolio expected return is a weighted average of the asset returns\n",
    "# mktMu = mktW.T @ muBar  # .T is used for transpose\n",
    "\n",
    "# or\n",
    "\n",
    "# Fix the expected return of the market portoflio as 5% + the risk free rate. Assume that the risk free is 3%\n",
    "\n",
    "mktMu = 0.08\n",
    "print(\"Expected return of the market portfolio (mktMu):\", mktMu)\n",
    "\n",
    "# Calculate the variance of the market portfolio\n",
    "# The market portfolio variance is computed using the formula: w' * Sigma * w\n",
    "mktSigma = mktW.T @ SigmaBar @ mktW\n",
    "print(\"Variance of the market portfolio:\", mktSigma)\n",
    "\n",
    "# Estimate the coefficient of risk aversion (lambda) --> lam = mu_{mkt}/var_{mkt}\n",
    "# Lambda (lam) is defined as the ratio of the expected return to the variance of the market portfolio\n",
    "lam = mktMu / mktSigma\n",
    "print(\"Estimated coefficient of risk aversion (lambda):\", lam)"
   ]
  },
  {
   "cell_type": "code",
   "execution_count": 8,
   "id": "9c343eab-2f1b-431b-a763-94b2a67bb6c4",
   "metadata": {},
   "outputs": [
    {
     "name": "stdout",
     "output_type": "stream",
     "text": [
      "Equilibrium Expected Return (Pi):\n",
      "[[0.06585525]\n",
      " [0.06793803]\n",
      " [0.06316401]\n",
      " [0.0381179 ]\n",
      " [0.11901496]\n",
      " [0.09974049]]\n"
     ]
    }
   ],
   "source": [
    "# Calculate the equilibrium expected returns (Pi)\n",
    "# Pi = lambda * SigmaBar * mktW\n",
    "# This is based on the Capital Asset Pricing Model (CAPM) equilibrium\n",
    "\n",
    "# Compute the equilibrium expected returns vector\n",
    "Pi = lam * SigmaBar @ mktW\n",
    "\n",
    "# Reshape the result to be a column vector (n, 1)\n",
    "Pi = Pi.reshape(-1, 1)\n",
    "\n",
    "# Print the equilibrium expected returns\n",
    "print(\"Equilibrium Expected Return (Pi):\")\n",
    "print(Pi)"
   ]
  },
  {
   "cell_type": "markdown",
   "id": "1114bee2-b7f5-4914-97c7-84748a61ba24",
   "metadata": {},
   "source": [
    "##### 3. Compute the Prior distribution - Views"
   ]
  },
  {
   "cell_type": "code",
   "execution_count": 9,
   "id": "16a22b54-3ff9-4b09-8d09-723606b6354a",
   "metadata": {},
   "outputs": [
    {
     "name": "stdout",
     "output_type": "stream",
     "text": [
      "Views (Q):\n",
      "[[0.45]\n",
      " [0.05]]\n",
      "Pick matrix (P):\n",
      "[[ 0  0  0  1  0  0]\n",
      " [ 0  0  1  0  0 -1]]\n",
      "Confidence matrix (Omega):\n",
      "[[0.05 0.  ]\n",
      " [0.   0.15]]\n"
     ]
    }
   ],
   "source": [
    "# Define investor views (Q)\n",
    "# We now have two views:\n",
    "# 1. We expect TSLA (Tesla) to have an expected return of 45% next year.\n",
    "# 2. We believe that GOOGL (Alphabet) will outperform JPM (JPMorgan Chase) by 5%.\n",
    "\n",
    "Q = np.array([0.45, 0.05]).reshape(-1, 1)  # Reshape Q to be a column vector\n",
    "print(\"Views (Q):\")\n",
    "print(Q)\n",
    "\n",
    "# Define the pick matrix (P)\n",
    "# The P matrix selects which assets the views apply to, based on the order in assetList:\n",
    "# 1. The first view is an absolute view on TSLA (Tesla), so we place 1 for TSLA and 0 elsewhere.\n",
    "# 2. The second view is a relative view: GOOGL (Alphabet) will outperform JPM (JPMorgan Chase),\n",
    "#    so we place 1 for GOOGL and -1 for JPM, with 0 elsewhere.\n",
    "\n",
    "P = np.array([\n",
    "    [0, 0, 0, 1, 0, 0],  # Absolute view on TSLA\n",
    "    [0, 0, 1, 0, 0, -1]  # Relative view: GOOGL vs JPM\n",
    "])\n",
    "print(\"Pick matrix (P):\")\n",
    "print(P)\n",
    "\n",
    "# Define the Uncertainty matrix (Omega)\n",
    "# Omega is a diagonal matrix that represents the uncertainty (variance) of each view.\n",
    "# IMPORTANT: Omega values indicate the level of uncertainty, not directly the confidence.\n",
    "# - A low value in Omega means we are confident in the view (low uncertainty).\n",
    "# - A high value in Omega means we are less confident in the view (high uncertainty).\n",
    "#\n",
    "# Here, we set:\n",
    "# - 0.05 for the first view (high confidence, low uncertainty on TSLA's expected return).\n",
    "# - 0.15 for the second view (lower confidence, higher uncertainty on the relative performance of GOOGL vs JPM).\n",
    "\n",
    "Omega = np.diag([0.05, 0.15])\n",
    "print(\"Confidence matrix (Omega):\")\n",
    "print(Omega)\n",
    "\n",
    "# Explanation of Omega:\n",
    "# Increasing the values in Omega means increasing the uncertainty of the views, which results in:\n",
    "# - The posterior distribution being more influenced by the (market equilibrium).\n",
    "# - The views having less impact on the posterior expected returns.\n",
    "#\n",
    "# Conversely, decreasing the values in Omega means decreasing the uncertainty of the views, which results in:\n",
    "# - The posterior distribution being more influenced by the views (Q).\n",
    "# - The views having a stronger impact on the posterior expected returns.\n"
   ]
  },
  {
   "cell_type": "markdown",
   "id": "3facf841-d592-4569-a31a-806c26006e0c",
   "metadata": {},
   "source": [
    "##### 4. Construction of the Posterior distribution"
   ]
  },
  {
   "cell_type": "code",
   "execution_count": 11,
   "id": "51de6f44-caf2-4c07-b697-c1f556308623",
   "metadata": {},
   "outputs": [
    {
     "name": "stdout",
     "output_type": "stream",
     "text": [
      "Value of tau: 0.1\n",
      "Posterior Mean (muBarPost) vs Prior Mean (Pi):\n",
      "[[0.09107305 0.06585525]\n",
      " [0.08676157 0.06793803]\n",
      " [0.0907919  0.06316401]\n",
      " [0.10251757 0.0381179 ]\n",
      " [0.15301666 0.11901496]\n",
      " [0.11901312 0.09974049]]\n"
     ]
    }
   ],
   "source": [
    "# Define the parameter tau\n",
    "# Tau represents the uncertainty in the prior (market equilibrium returns).\n",
    "# A common choice is tau = 1 / T, where T is the number of observations (e.g., T = 252 for daily returns in a year).\n",
    "# The value of tau influences how much we weight the market equilibrium vs. the investor views.\n",
    "# T = 360  # Number of observations (e.g., 360 trading days)\n",
    "# tau = 1 / T\n",
    "tau = 0.1 # Empirical Tau\n",
    "print(\"Value of tau:\", tau)\n",
    "\n",
    "# Compute the inverse of SigmaBar (prior covariance matrix) and Omega (confidence matrix)\n",
    "SigmaBarInv = np.linalg.inv(SigmaBar)\n",
    "OmegaInv = np.linalg.inv(Omega)\n",
    "\n",
    "# Transpose of the pick matrix P\n",
    "Pt = P.T\n",
    "\n",
    "# Calculate the posterior covariance matrix (M)\n",
    "# SigmaBarPost = (1/tau * SigmaBarInv + P' * OmegaInv * P)^(-1)\n",
    "# The value of tau affects this calculation:\n",
    "# - A small tau gives more weight to the prior covariance (SigmaBar), reducing the influence of the investor views.\n",
    "# - A large tau gives more weight to the investor views, increasing their impact on the posterior estimates.\n",
    "SigmaBarPost = np.linalg.inv((1 / tau) * SigmaBarInv + Pt @ OmegaInv @ P)\n",
    "\n",
    "# Calculate the posterior mean (muBarPost)\n",
    "# muBarPost = SigmaBarPost * ((1/tau * SigmaBarInv * Pi) + (P' * OmegaInv * Q))\n",
    "# Here, the influence of tau is seen in how the prior mean (Pi) and investor views (Q) are combined:\n",
    "# - A small tau increases the weight of the prior mean (Pi), making the posterior mean closer to the market equilibrium.\n",
    "# - A large tau increases the weight of the views (Q), making the posterior mean reflect the investor's opinions more strongly.\n",
    "muBarPost = SigmaBarPost @ ((1 / tau) * SigmaBarInv @ Pi + Pt @ OmegaInv @ Q)\n",
    "\n",
    "\n",
    "# Print the posterior mean and compare with the prior mean (Pi)\n",
    "print(\"Posterior Mean (muBarPost) vs Prior Mean (Pi):\")\n",
    "print(np.concatenate((muBarPost, Pi), axis=1))\n"
   ]
  },
  {
   "cell_type": "code",
   "execution_count": 13,
   "id": "8dadf70a-2882-4c4e-a3c4-fefa0a29a68d",
   "metadata": {},
   "outputs": [],
   "source": [
    "# Function to compute portfolio expected return\n",
    "def ptfRet(x, mu):\n",
    "    # Portfolio return = x' * muBar\n",
    "    return x.T @ mu\n",
    "\n",
    "# Function to compute portfolio variance\n",
    "def ptfVar(x, Variance):\n",
    "    # Portfolio variance = x' * SigmaBar * x\n",
    "    return (x.T @ Variance) @ x\n",
    "\n",
    "# Function to plot portfolio weights\n",
    "def plot_weights(w1, w2, leg1, leg2, title):\n",
    "    # x-axis represents asset indices\n",
    "    x = np.arange(len(assetList)) + 1\n",
    "\n",
    "    # Extract the portfolio weights\n",
    "    heights1 = np.squeeze(w1)\n",
    "    heights2 = np.squeeze(w2)\n",
    "\n",
    "    # Create a bar plot\n",
    "    plt.figure(figsize=(10, 4))\n",
    "\n",
    "    # Plot \n",
    "    plt.bar(x, heights1, width=0.2, label=leg1)\n",
    "\n",
    "    # Plot Black-Litterman weights\n",
    "    plt.bar(x + 0.2, heights2, width=0.2, label=leg2)\n",
    "\n",
    "    # Customize the plot\n",
    "    plt.xticks(x + 0.2, assetList)\n",
    "    plt.title(title)\n",
    "    plt.legend(loc='best')\n",
    "    plt.show()\n",
    "\n"
   ]
  },
  {
   "cell_type": "markdown",
   "id": "da310506-78b5-4824-9649-6f5fdb083ef3",
   "metadata": {},
   "source": [
    "#### 5. Optimal portfolio"
   ]
  },
  {
   "cell_type": "code",
   "execution_count": 14,
   "id": "3c78cfe3-6ccd-4bf0-ac76-6f2d3f1e6d10",
   "metadata": {},
   "outputs": [
    {
     "name": "stdout",
     "output_type": "stream",
     "text": [
      "Portfolio expected return is: 0.2999999999997839\n",
      "Portfolio volatility is: 0.2522998286531081\n",
      "Portfolio Sharpe ratio is: 1.1890614496304697\n"
     ]
    }
   ],
   "source": [
    "# Find the optimal mean-variance portfolio using the traditional Markowitz model\n",
    "\n",
    "mu0 = 0.3                            # Target portfolio expected return\n",
    "\n",
    "linConstraint = ({'type': 'eq', 'fun': lambda x: ptfRet(x,muBar) - mu0}, {'type': 'eq', 'fun': lambda x: np.sum(x) - 1})\n",
    "\n",
    "w0 = n*[1./n]        # Choose as starting portfolio the equally weighted portfolio \n",
    "res = minimize(ptfVar, w0, args=(SigmaBar), method='SLSQP', constraints=linConstraint, options={'ftol': 1e-09})\n",
    "wBarM = res.x\n",
    "wBarM.shape = (n,1)\n",
    "\n",
    "ptf_1a_ER = ptfRet(res.x, muBar)[0][0]\n",
    "print(\"Portfolio expected return is:\", ptf_1a_ER)\n",
    "ptf_1a_EV = np.sqrt(ptfVar(res.x, SigmaBar))[0][0]\n",
    "print(\"Portfolio volatility is:\", ptf_1a_EV)\n",
    "ptf_1a_SR = ptf_1a_ER/ptf_1a_EV\n",
    "print(\"Portfolio Sharpe ratio is:\", ptf_1a_SR)"
   ]
  },
  {
   "cell_type": "code",
   "execution_count": 15,
   "id": "e5abd9a3-5d9c-4a37-9543-86cc631b36a0",
   "metadata": {},
   "outputs": [
    {
     "name": "stdout",
     "output_type": "stream",
     "text": [
      "Portfolio expected return is: 0.3000000000003275\n",
      "Portfolio volatility is: 1.272927885170941\n",
      "Portfolio Sharpe ratio is: 0.23567713732662918\n"
     ]
    }
   ],
   "source": [
    "# Find the optimal mean-variance portfolio using the Black Litterman model\n",
    "\n",
    "mu0 = 0.3                              \n",
    "\n",
    "linConstraintBl = ({'type': 'eq', 'fun': lambda x: ptfRet(x,muBarPost) - mu0}, {'type': 'eq', 'fun': lambda x: np.sum(x) - 1})\n",
    "\n",
    "w0 = n*[1./n]        # Choose as starting portfolio the equally weighted portfolio \n",
    "res = minimize(ptfVar, w0, args=(SigmaBar), method='SLSQP', constraints=linConstraintBl, options={'ftol': 1e-09})\n",
    "wBarBl = res.x\n",
    "wBarBl.shape = (n,1)\n",
    "\n",
    "ptf_1b_ER = ptfRet(res.x, muBarPost)[0][0]\n",
    "print(\"Portfolio expected return is:\", ptf_1b_ER)\n",
    "ptf_1b_EV = np.sqrt(ptfVar(res.x, SigmaBar))[0][0]\n",
    "print(\"Portfolio volatility is:\", ptf_1b_EV)\n",
    "ptf_1b_SR = ptf_1b_ER/ptf_1b_EV\n",
    "print(\"Portfolio Sharpe ratio is:\", ptf_1b_SR)"
   ]
  },
  {
   "cell_type": "code",
   "execution_count": 16,
   "id": "f17d57ab-8c16-404b-b7d9-093b810260e5",
   "metadata": {},
   "outputs": [
    {
     "data": {
      "image/png": "[encoded data removed]",
      "text/plain": [
       "<Figure size 1000x400 with 1 Axes>"
      ]
     },
     "metadata": {},
     "output_type": "display_data"
    }
   ],
   "source": [
    "# Plot bar diagram with weights - target expected return\n",
    "plot_weights(wBarM,wBarBl,'Markowitz weights','Black Litterman weights', 'Mean-variance target expected return')"
   ]
  },
  {
   "cell_type": "markdown",
   "id": "4fdebcbc-37e3-4f4f-8637-1216c02e7797",
   "metadata": {},
   "source": [
    "##### 6. Global Minimum variance Portfolio"
   ]
  },
  {
   "cell_type": "code",
   "execution_count": 17,
   "id": "262e9bbb-857f-41ac-ba31-febe44c85fb8",
   "metadata": {},
   "outputs": [
    {
     "name": "stdout",
     "output_type": "stream",
     "text": [
      "Portfolio expected return is: 0.18469156766708572\n",
      "Portfolio volatility is: 0.23808721356569706\n",
      "Portfolio Sharpe ratio is: 0.7757307286731822\n"
     ]
    }
   ],
   "source": [
    "# Find the global minimum variance portfolio using the Markowitz model\n",
    "\n",
    "linConstraint = ({'type': 'eq', 'fun': lambda x: np.sum(x) - 1})\n",
    "\n",
    "w0 = n*[1./n]        # Choose as starting portfolio the equally weighted portfolio \n",
    "res = minimize(ptfVar, w0, args=(SigmaBar), method='SLSQP', constraints=linConstraint, options={'ftol': 1e-09})\n",
    "wBarM = res.x\n",
    "wBarM.shape = (n,1)\n",
    "\n",
    "ptf_2a_ER = ptfRet(res.x, muBar)[0][0]\n",
    "print(\"Portfolio expected return is:\", ptf_2a_ER)\n",
    "ptf_2a_EV = np.sqrt(ptfVar(res.x, SigmaBar))[0][0]\n",
    "print(\"Portfolio volatility is:\", ptf_2a_EV)\n",
    "ptf_2a_SR = ptf_2a_ER/ptf_2a_EV\n",
    "print(\"Portfolio Sharpe ratio is:\", ptf_2a_SR)"
   ]
  },
  {
   "cell_type": "code",
   "execution_count": 18,
   "id": "36986179-cc5f-4ca7-bb24-c2b668f33a4b",
   "metadata": {},
   "outputs": [
    {
     "name": "stdout",
     "output_type": "stream",
     "text": [
      "Portfolio expected return is: 0.08627058254539298\n",
      "Portfolio volatility is: 0.0716056694825921\n",
      "Portfolio Sharpe ratio is: 1.2048010048473332\n"
     ]
    }
   ],
   "source": [
    "# Find the global minimum variance portfolio using the Black Litterman model\n",
    "\n",
    "linConstraintBl = ({'type': 'eq', 'fun': lambda x: np.sum(x) - 1})\n",
    "\n",
    "w0 = n*[1./n]        # Choose as starting portfolio the equally weighted portfolio \n",
    "res = minimize(ptfVar, w0, args=(SigmaBar), method='SLSQP', constraints=linConstraintBl, options={'ftol': 1e-09})\n",
    "wBarBl = res.x\n",
    "wBarBl.shape = (n,1)\n",
    "\n",
    "ptf_2b_ER = ptfRet(res.x, muBarPost)[0][0]\n",
    "print(\"Portfolio expected return is:\", ptf_2b_ER)\n",
    "ptf_2b_EV = np.sqrt(ptfVar(res.x, SigmaBarPost))[0][0]\n",
    "print(\"Portfolio volatility is:\", ptf_2b_EV)\n",
    "ptf_2b_SR = ptf_2b_ER/ptf_2b_EV\n",
    "print(\"Portfolio Sharpe ratio is:\", ptf_2b_SR)"
   ]
  },
  {
   "cell_type": "code",
   "execution_count": 19,
   "id": "17b39d28-d05f-44cf-836f-a0fa444e4417",
   "metadata": {},
   "outputs": [
    {
     "data": {
      "image/png": "[encoded data removed]",
      "text/plain": [
       "<Figure size 1000x400 with 1 Axes>"
      ]
     },
     "metadata": {},
     "output_type": "display_data"
    }
   ],
   "source": [
    "# Plot bar diagram with weights - global minimum variance\n",
    "\n",
    "# The weights and volatility of the Global Minimum Variance (GMV) portfolio are identical for both Markowitz and Black-Litterman approaches.\n",
    "# This is because the GMV portfolio is calculated based on the covariance matrix (SigmaBar), which is the same in both cases.\n",
    "# However, the expected return differs because Markowitz uses the equilibrium returns (muBar), while Black-Litterman uses the posterior returns (muBarPost).\n",
    "\n",
    "\n",
    "plot_weights(wBarM,wBarBl,'Markowitz weights','Black Litterman weights', 'Global Minimum Variance')"
   ]
  },
  {
   "cell_type": "markdown",
   "id": "2786e43a-2a79-4ff5-a80f-0e64524de31c",
   "metadata": {},
   "source": [
    "##### 7. Risk Parity portfolio"
   ]
  },
  {
   "cell_type": "code",
   "execution_count": 20,
   "id": "5a01a8b3-838f-4db1-9747-be9287cd28be",
   "metadata": {},
   "outputs": [],
   "source": [
    "# Objective function for Risk Parity\n",
    "# The goal is to find portfolio weights such that the risk contribution of each asset is the same.\n",
    "# In Risk Parity, we set: w_1 * MR_1 = w_2 * MR_2 = w_3 * MR_3 = ... = w_n * MR_n\n",
    "# where:\n",
    "# - w_i is the weight of asset i.\n",
    "# - MR_i is the marginal risk contribution of asset i.\n",
    "# This means that each asset contributes equally to the total portfolio risk.\n",
    "\n",
    "def ptfRP(x, SigmaBar, target_vol, n):\n",
    "    MR = (SigmaBar @ x) /  np.sqrt(x.T @ SigmaBar@ x)  # Marginal risk contribution of each asset\n",
    "    target = target_vol/n           # Target risk contribution (equal for all assets)\n",
    "    sqs = x * MR - target          # Difference between actual and target contribution\n",
    "    return np.sum(sqs**2)          # Sum of squared differences\n",
    "\n",
    "# Marginal Risk Contributions for each asset\n",
    "# Returns the vector of marginal risk contributions (MR) for the given portfolio weights.\n",
    "def marginal_risk(x, SigmaBar):\n",
    "    return (SigmaBar @ x) / np.sqrt(x.T @ SigmaBar@ x)"
   ]
  },
  {
   "cell_type": "code",
   "execution_count": 21,
   "id": "a6384523-829b-4dbc-8f49-6a557dbf22f9",
   "metadata": {},
   "outputs": [
    {
     "name": "stdout",
     "output_type": "stream",
     "text": [
      "Risk Parity Weights: [0.18923883 0.17821882 0.18886248 0.26657387 0.09141773 0.08568827]\n",
      "Marginal Risk Contributions of each asset: [0.25226613 0.262312   0.25190099 0.20195365 0.39543054 0.41912307]\n"
     ]
    }
   ],
   "source": [
    "# Define initial equal weights (Equal Weighting - EW)\n",
    "# This is our starting point for the optimization: each asset gets the same weight (1/n).\n",
    "w0 = n * [1. / n]\n",
    "\n",
    "# Set the portoflio volatility that we want equally share among the assets\n",
    "target_vol =  ptf_2b_EV\n",
    "\n",
    "# Define the linear constraint: the sum of weights must be equal to 1 (fully invested portfolio).\n",
    "linConstraint = {'type': 'eq', 'fun': lambda x: np.sum(x) - 1}\n",
    "\n",
    "# Perform the optimization to find the Risk Parity portfolio weights\n",
    "# - The objective function is ptfRP, which minimizes the sum of squared differences in risk contributions.\n",
    "resRP = minimize(ptfRP, w0, args=(SigmaBar, target_vol, n), method='SLSQP', constraints=linConstraint, options={'ftol': 1e-9})\n",
    "\n",
    "# Print the optimized Risk Parity weights\n",
    "print(\"Risk Parity Weights:\", resRP.x)\n",
    "\n",
    "# Calculate the Marginal Risk Contributions for the optimized weights\n",
    "MargRisks = marginal_risk(resRP.x, SigmaBar)\n",
    "print(\"Marginal Risk Contributions of each asset:\", MargRisks)"
   ]
  },
  {
   "cell_type": "code",
   "execution_count": 22,
   "id": "cbee58e5-2f02-46b8-9654-b43bb1f581eb",
   "metadata": {},
   "outputs": [
    {
     "name": "stdout",
     "output_type": "stream",
     "text": [
      "[0.04773855 0.04674893 0.04757465 0.05383557 0.03614936 0.03591393]\n"
     ]
    }
   ],
   "source": [
    "print(resRP.x*MargRisks) \n",
    "# Elementwise product between risk parity weights and marginal risk  of each asset\n",
    "# The Marginal Risk (MR) of each asset multiplied by its weight should be approximately homogeneous across assets in a Risk Parity portfolio"
   ]
  },
  {
   "cell_type": "code",
   "execution_count": 23,
   "id": "8cc3b06b-aba8-485b-beda-5a14ddd3d74f",
   "metadata": {},
   "outputs": [
    {
     "data": {
      "image/png": "[encoded data removed]",
      "text/plain": [
       "<Figure size 1000x400 with 1 Axes>"
      ]
     },
     "metadata": {},
     "output_type": "display_data"
    }
   ],
   "source": [
    "plot_weights(wBarM,resRP.x,'Markowitz weights','Risk Parity weights', 'Comparison of weights')\n",
    "\n",
    "# Summary of the three approaches:\n",
    "# 1. **Markowitz**: This approach optimizes portfolio weights based on expected returns (muBar) and the covariance matrix (SigmaBar).\n",
    "#    It can lead to extreme allocations if the expected returns are not accurate.\n",
    "#    It assumes that the input expected returns are reliable and does not account for uncertainty in these estimates.\n",
    "#\n",
    "# 2. **Black-Litterman**: This approach improves the Markowitz model by combining market equilibrium returns (CAPM) with investor views (Q).\n",
    "#    The posterior returns (muBarPost) are a weighted combination of equilibrium returns (Pi) and views, balanced by the level of confidence (Omega).\n",
    "#    It produces more stable and diversified allocations, as it adjusts the expected returns based on both market data and investor opinions.\n",
    "#\n",
    "# 3. **Risk Parity**: This approach does not rely on expected returns at all. Instead, it focuses on equalizing the risk contribution of each asset.\n",
    "#    The goal is to create a portfolio where the risk is balanced, preventing any single asset from dominating the portfolio risk.\n",
    "#    It is a conservative strategy that often leads to better diversification, especially when the estimates of expected returns are uncertain."
   ]
  },
  {
   "cell_type": "code",
   "execution_count": 24,
   "id": "2c49291c-1a33-46fd-ba19-295463f08d57",
   "metadata": {},
   "outputs": [
    {
     "name": "stdout",
     "output_type": "stream",
     "text": [
      "Comparison of Sigma_k (Volatilities) and Marginal Risk Contributions:\n",
      "[[0.30840413 0.25226613]\n",
      " [0.34055622 0.262312  ]\n",
      " [0.31131124 0.25190099]\n",
      " [0.30622955 0.20195365]\n",
      " [0.51869755 0.39543054]\n",
      " [0.64463645 0.41912307]]\n"
     ]
    }
   ],
   "source": [
    "# Extract the vector of individual asset volatilities (Sigma_k)\n",
    "# Sigma_k represents the standard deviation (volatility) of each asset, calculated as the square root of the diagonal elements of SigmaBar.\n",
    "Sigma_k = np.sqrt(np.diag(SigmaBar)).reshape(-1, 1)\n",
    "\n",
    "# Ensure Marginal Risk Contributions are a column vector\n",
    "MargRisks = MargRisks.reshape(-1, 1)\n",
    "\n",
    "# Compare Sigma_k (individual volatilities) with Marginal Risk Contributions\n",
    "comparison = np.concatenate((Sigma_k, MargRisks), axis=1)\n",
    "print(\"Comparison of Sigma_k (Volatilities) and Marginal Risk Contributions:\")\n",
    "print(comparison)\n",
    "\n",
    "# Compare Sigma_k (individual volatilities) with Marginal Risk Contributions\n",
    "# The comparison between Sigma_k and Marginal Risks helps us understand the impact of diversification:\n",
    "# - Sigma_k shows the volatility of each asset in isolation, without considering correlations with other assets.\n",
    "# - Marginal Risks (MR) represent the risk each asset contributes to the total portfolio risk, accounting for both volatility and correlations.\n",
    "# - If MR > Sigma_k, it suggests that the asset contributes more to risk due to high correlation with other assets.\n",
    "# - If MR < Sigma_k, it suggests that the asset benefits from diversification, reducing its risk contribution to the portfolio.\n",
    "# This comparison helps assess whether the portfolio is well-diversified and if the risk contributions are balanced."
   ]
  },
  {
   "cell_type": "code",
   "execution_count": 25,
   "id": "71f13c34-00df-4cb9-8c54-5e4a85d4261b",
   "metadata": {},
   "outputs": [],
   "source": [
    "# Analysis of Sigma_k (Volatilities) and Marginal Risk Contributions:\n",
    "# - In general, Marginal Risk Contributions (MR) are slightly lower than individual volatilities (Sigma_k),\n",
    "#   indicating effective diversification in the portfolio.\n"
   ]
  },
  {
   "cell_type": "code",
   "execution_count": null,
   "id": "375ab9bb-64d6-4c1a-beb1-594bd267af50",
   "metadata": {},
   "outputs": [],
   "source": []
  }
 ],
 "metadata": {
  "kernelspec": {
   "display_name": "Python 3 (ipykernel)",
   "language": "python",
   "name": "python3"
  },
  "language_info": {
   "codemirror_mode": {
    "name": "ipython",
    "version": 3
   },
   "file_extension": ".py",
   "mimetype": "text/x-python",
   "name": "python",
   "nbconvert_exporter": "python",
   "pygments_lexer": "ipython3",
   "version": "3.11.7"
  }
 },
 "nbformat": 4,
 "nbformat_minor": 5
}
